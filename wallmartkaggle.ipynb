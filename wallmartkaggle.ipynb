{
 "cells": [
  {
   "cell_type": "code",
   "execution_count": 0,
   "metadata": {
    "colab": {},
    "colab_type": "code",
    "id": "dHqV2S686A0-"
   },
   "outputs": [],
   "source": [
    "from google.colab import files"
   ]
  },
  {
   "cell_type": "code",
   "execution_count": 4,
   "metadata": {
    "colab": {
     "base_uri": "https://localhost:8080/",
     "height": 70,
     "resources": {
      "http://localhost:8080/nbextensions/google.colab/files.js": {
       "data": "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",
       "headers": [
        [
         "content-type",
         "application/javascript"
        ]
       ],
       "ok": true,
       "status": 200,
       "status_text": ""
      }
     }
    },
    "colab_type": "code",
    "id": "q9-urJ5-6sEW",
    "outputId": "10428a95-cee4-4d3b-b1db-969e444ba88a"
   },
   "outputs": [
    {
     "data": {
      "text/html": [
       "\n",
       "     <input type=\"file\" id=\"files-b8bb7629-43c5-4f7c-951b-899713217c98\" name=\"files[]\" multiple disabled />\n",
       "     <output id=\"result-b8bb7629-43c5-4f7c-951b-899713217c98\">\n",
       "      Upload widget is only available when the cell has been executed in the\n",
       "      current browser session. Please rerun this cell to enable.\n",
       "      </output>\n",
       "      <script src=\"/nbextensions/google.colab/files.js\"></script> "
      ],
      "text/plain": [
       "<IPython.core.display.HTML object>"
      ]
     },
     "metadata": {
      "tags": []
     },
     "output_type": "display_data"
    },
    {
     "name": "stdout",
     "output_type": "stream",
     "text": [
      "Saving train.csv to train.csv\n"
     ]
    }
   ],
   "source": [
    "upload=files.upload()"
   ]
  },
  {
   "cell_type": "code",
   "execution_count": 1,
   "metadata": {
    "colab": {},
    "colab_type": "code",
    "id": "EJJHLfG55-Ww"
   },
   "outputs": [],
   "source": [
    "import pandas as pd\n",
    "import numpy as np\n",
    "import seaborn as sns\n",
    "%matplotlib inline\n"
   ]
  },
  {
   "cell_type": "code",
   "execution_count": null,
   "metadata": {
    "colab": {},
    "colab_type": "code",
    "id": "66aGHak560HC"
   },
   "outputs": [],
   "source": [
    "# for importing google collab\n",
    "train=pd.read_csv(\"train.csv\")\n",
    "test=pd.read_csv(\"test.csv\")\n",
    "table_9=pd.read_excel('WeatherData.xlsx',sheet_name='2009')\n",
    "table_10=pd.read_excel('WeatherData.xlsx',sheet_name='2010')\n",
    "table_11=pd.read_excel('WeatherData.xlsx',sheet_name='2011')\n",
    "table_12=pd.read_excel('WeatherData.xlsx',sheet_name='2012')\n",
    "table_13=pd.read_excel('WeatherData.xlsx',sheet_name='2013')\n",
    "table_14=pd.read_excel('WeatherData.xlsx',sheet_name='2014')\n",
    "table_15=pd.read_excel('WeatherData.xlsx',sheet_name='2015')\n",
    "table_16=pd.read_excel('WeatherData.xlsx',sheet_name='2016')\n"
   ]
  },
  {
   "cell_type": "code",
   "execution_count": 3,
   "metadata": {
    "colab": {},
    "colab_type": "code",
    "id": "pqnZdPlv5-W0"
   },
   "outputs": [],
   "source": [
    "# For importing in jupyter notebook\n",
    "train=pd.read_csv(\"/Users/MCHARU/Desktop/dsedelhi/train.csv\")\n",
    "test=pd.read_csv(\"/Users/MCHARU/Desktop/dsedelhi/test.csv\")\n",
    "table_9=pd.read_excel('/Users/MCHARU/Desktop/WeatherData.xlsx',sheet_name='2009')\n",
    "table_10=pd.read_excel('/Users/MCHARU/Desktop/WeatherData.xlsx',sheet_name='2010')\n",
    "table_11=pd.read_excel('/Users/MCHARU/Desktop/WeatherData.xlsx',sheet_name='2011')\n",
    "table_12=pd.read_excel('/Users/MCHARU/Desktop/WeatherData.xlsx',sheet_name='2012')\n",
    "table_13=pd.read_excel('/Users/MCHARU/Desktop/WeatherData.xlsx',sheet_name='2013')\n",
    "table_14=pd.read_excel('/Users/MCHARU/Desktop/WeatherData.xlsx',sheet_name='2014')\n",
    "table_15=pd.read_excel('/Users/MCHARU/Desktop/WeatherData.xlsx',sheet_name='2015')\n",
    "table_16=pd.read_excel('/Users/MCHARU/Desktop/WeatherData.xlsx',sheet_name='2016')\n"
   ]
  },
  {
   "cell_type": "code",
   "execution_count": 22,
   "metadata": {},
   "outputs": [],
   "source": [
    "macro=pd.read_excel('/Users/MCHARU/Desktop/macro_economic.xlsx')"
   ]
  },
  {
   "cell_type": "code",
   "execution_count": 23,
   "metadata": {},
   "outputs": [
    {
     "data": {
      "text/html": [
       "<div>\n",
       "<style scoped>\n",
       "    .dataframe tbody tr th:only-of-type {\n",
       "        vertical-align: middle;\n",
       "    }\n",
       "\n",
       "    .dataframe tbody tr th {\n",
       "        vertical-align: top;\n",
       "    }\n",
       "\n",
       "    .dataframe thead th {\n",
       "        text-align: right;\n",
       "    }\n",
       "</style>\n",
       "<table border=\"1\" class=\"dataframe\">\n",
       "  <thead>\n",
       "    <tr style=\"text-align: right;\">\n",
       "      <th></th>\n",
       "      <th>Year-Month</th>\n",
       "      <th>Monthly Nominal GDP Index (inMillion$)</th>\n",
       "      <th>Monthly Real GDP Index (inMillion$)</th>\n",
       "      <th>CPI</th>\n",
       "      <th>PartyInPower</th>\n",
       "      <th>unemployment rate</th>\n",
       "      <th>CommercialBankInterestRateonCreditCardPlans</th>\n",
       "      <th>Finance Rate on Personal Loans at Commercial Banks, 24 Month Loan</th>\n",
       "      <th>Earnings or wages  in dollars per hour</th>\n",
       "      <th>AdvertisingExpenses (in Thousand Dollars)</th>\n",
       "      <th>Cotton Monthly Price - US cents per Pound(lbs)</th>\n",
       "      <th>Change(in%)</th>\n",
       "      <th>Average upland planted(million acres)</th>\n",
       "      <th>Average upland harvested(million acres)</th>\n",
       "      <th>yieldperharvested acre</th>\n",
       "      <th>Production (in  480-lb netweright in million bales)</th>\n",
       "      <th>Mill use  (in  480-lb netweright in million bales)</th>\n",
       "      <th>Exports</th>\n",
       "    </tr>\n",
       "  </thead>\n",
       "  <tbody>\n",
       "    <tr>\n",
       "      <th>0</th>\n",
       "      <td>2009 - Jan</td>\n",
       "      <td>14421.752895</td>\n",
       "      <td>14407.053343</td>\n",
       "      <td>233.402</td>\n",
       "      <td>Democrats</td>\n",
       "      <td>7.8</td>\n",
       "      <td>12.03</td>\n",
       "      <td>11.44</td>\n",
       "      <td>22.05</td>\n",
       "      <td>137</td>\n",
       "      <td>57.70</td>\n",
       "      <td>4.02</td>\n",
       "      <td>9.296</td>\n",
       "      <td>7.559</td>\n",
       "      <td>799</td>\n",
       "      <td>12.589</td>\n",
       "      <td>4.17</td>\n",
       "      <td>11.550</td>\n",
       "    </tr>\n",
       "    <tr>\n",
       "      <th>1</th>\n",
       "      <td>2009 - Feb</td>\n",
       "      <td>14389.200466</td>\n",
       "      <td>14366.176571</td>\n",
       "      <td>234.663</td>\n",
       "      <td>Democrats</td>\n",
       "      <td>8.3</td>\n",
       "      <td>12.97</td>\n",
       "      <td>11.05</td>\n",
       "      <td>22.22</td>\n",
       "      <td>200</td>\n",
       "      <td>55.21</td>\n",
       "      <td>-4.32</td>\n",
       "      <td>9.296</td>\n",
       "      <td>7.559</td>\n",
       "      <td>799</td>\n",
       "      <td>12.589</td>\n",
       "      <td>3.87</td>\n",
       "      <td>11.100</td>\n",
       "    </tr>\n",
       "    <tr>\n",
       "      <th>2</th>\n",
       "      <td>2009 - Mar</td>\n",
       "      <td>14340.701639</td>\n",
       "      <td>14351.786822</td>\n",
       "      <td>235.067</td>\n",
       "      <td>Democrats</td>\n",
       "      <td>8.7</td>\n",
       "      <td>12.97</td>\n",
       "      <td>11.05</td>\n",
       "      <td>22.22</td>\n",
       "      <td>?</td>\n",
       "      <td>51.50</td>\n",
       "      <td>-6.72</td>\n",
       "      <td>9.296</td>\n",
       "      <td>7.559</td>\n",
       "      <td>799</td>\n",
       "      <td>12.589</td>\n",
       "      <td>3.72</td>\n",
       "      <td>11.650</td>\n",
       "    </tr>\n",
       "    <tr>\n",
       "      <th>3</th>\n",
       "      <td>2009 - Apr</td>\n",
       "      <td>14326.815525</td>\n",
       "      <td>14351.601731</td>\n",
       "      <td>235.582</td>\n",
       "      <td>Democrats</td>\n",
       "      <td>9.0</td>\n",
       "      <td>12.97</td>\n",
       "      <td>11.05</td>\n",
       "      <td>22.13</td>\n",
       "      <td>214</td>\n",
       "      <td>56.78</td>\n",
       "      <td>10.25</td>\n",
       "      <td>9.296</td>\n",
       "      <td>7.559</td>\n",
       "      <td>787</td>\n",
       "      <td>12.400</td>\n",
       "      <td>3.62</td>\n",
       "      <td>12.225</td>\n",
       "    </tr>\n",
       "    <tr>\n",
       "      <th>4</th>\n",
       "      <td>2009 - May</td>\n",
       "      <td>14345.904809</td>\n",
       "      <td>14368.123959</td>\n",
       "      <td>235.975</td>\n",
       "      <td>Democrats</td>\n",
       "      <td>9.4</td>\n",
       "      <td>13.32</td>\n",
       "      <td>11.25</td>\n",
       "      <td>22.04</td>\n",
       "      <td>?</td>\n",
       "      <td>61.95</td>\n",
       "      <td>9.11</td>\n",
       "      <td>9.297</td>\n",
       "      <td>7.400</td>\n",
       "      <td>803</td>\n",
       "      <td>12.384</td>\n",
       "      <td>3.52</td>\n",
       "      <td>12.300</td>\n",
       "    </tr>\n",
       "  </tbody>\n",
       "</table>\n",
       "</div>"
      ],
      "text/plain": [
       "   Year-Month  Monthly Nominal GDP Index (inMillion$)  \\\n",
       "0  2009 - Jan                            14421.752895   \n",
       "1  2009 - Feb                            14389.200466   \n",
       "2  2009 - Mar                            14340.701639   \n",
       "3  2009 - Apr                            14326.815525   \n",
       "4  2009 - May                            14345.904809   \n",
       "\n",
       "   Monthly Real GDP Index (inMillion$)      CPI PartyInPower  \\\n",
       "0                         14407.053343  233.402    Democrats   \n",
       "1                         14366.176571  234.663    Democrats   \n",
       "2                         14351.786822  235.067    Democrats   \n",
       "3                         14351.601731  235.582    Democrats   \n",
       "4                         14368.123959  235.975    Democrats   \n",
       "\n",
       "   unemployment rate  CommercialBankInterestRateonCreditCardPlans  \\\n",
       "0                7.8                                        12.03   \n",
       "1                8.3                                        12.97   \n",
       "2                8.7                                        12.97   \n",
       "3                9.0                                        12.97   \n",
       "4                9.4                                        13.32   \n",
       "\n",
       "   Finance Rate on Personal Loans at Commercial Banks, 24 Month Loan  \\\n",
       "0                                              11.44                   \n",
       "1                                              11.05                   \n",
       "2                                              11.05                   \n",
       "3                                              11.05                   \n",
       "4                                              11.25                   \n",
       "\n",
       "   Earnings or wages  in dollars per hour  \\\n",
       "0                                   22.05   \n",
       "1                                   22.22   \n",
       "2                                   22.22   \n",
       "3                                   22.13   \n",
       "4                                   22.04   \n",
       "\n",
       "  AdvertisingExpenses (in Thousand Dollars)  \\\n",
       "0                                       137   \n",
       "1                                       200   \n",
       "2                                         ?   \n",
       "3                                       214   \n",
       "4                                         ?   \n",
       "\n",
       "   Cotton Monthly Price - US cents per Pound(lbs)  Change(in%)  \\\n",
       "0                                           57.70         4.02   \n",
       "1                                           55.21        -4.32   \n",
       "2                                           51.50        -6.72   \n",
       "3                                           56.78        10.25   \n",
       "4                                           61.95         9.11   \n",
       "\n",
       "   Average upland planted(million acres)  \\\n",
       "0                                  9.296   \n",
       "1                                  9.296   \n",
       "2                                  9.296   \n",
       "3                                  9.296   \n",
       "4                                  9.297   \n",
       "\n",
       "   Average upland harvested(million acres)  yieldperharvested acre  \\\n",
       "0                                    7.559                     799   \n",
       "1                                    7.559                     799   \n",
       "2                                    7.559                     799   \n",
       "3                                    7.559                     787   \n",
       "4                                    7.400                     803   \n",
       "\n",
       "   Production (in  480-lb netweright in million bales)  \\\n",
       "0                                             12.589     \n",
       "1                                             12.589     \n",
       "2                                             12.589     \n",
       "3                                             12.400     \n",
       "4                                             12.384     \n",
       "\n",
       "   Mill use  (in  480-lb netweright in million bales)  Exports  \n",
       "0                                               4.17    11.550  \n",
       "1                                               3.87    11.100  \n",
       "2                                               3.72    11.650  \n",
       "3                                               3.62    12.225  \n",
       "4                                               3.52    12.300  "
      ]
     },
     "execution_count": 23,
     "metadata": {},
     "output_type": "execute_result"
    }
   ],
   "source": [
    "macro.head()"
   ]
  },
  {
   "cell_type": "code",
   "execution_count": 5,
   "metadata": {
    "colab": {},
    "colab_type": "code",
    "id": "ROaqp_Ov5-W7"
   },
   "outputs": [],
   "source": [
    "# changing the year entries \n",
    "table_10.Year=2010\n",
    "table_11.Year=2011\n",
    "table_12.Year=2012\n",
    "table_13.Year=2013\n",
    "table_14.Year=2014\n",
    "table_15.Year=2015\n",
    "table_16.Year=2016\n"
   ]
  },
  {
   "cell_type": "code",
   "execution_count": 80,
   "metadata": {},
   "outputs": [
    {
     "data": {
      "text/plain": [
       "2"
      ]
     },
     "execution_count": 80,
     "metadata": {},
     "output_type": "execute_result"
    }
   ],
   "source": [
    "sum(mydata['Temp high (°C)']=='-')"
   ]
  },
  {
   "cell_type": "code",
   "execution_count": 82,
   "metadata": {},
   "outputs": [
    {
     "name": "stdout",
     "output_type": "stream",
     "text": [
      "Temp high (°C) 2\n",
      "Temp avg (°C) 2\n",
      "Temp low (°C) 2\n",
      "Dew Point high (°C) 2\n",
      "Dew Point avg (°C) 2\n",
      "Dew Point low (°C) 2\n",
      "Humidity (%) high 2\n",
      "Humidity (%) avg 2\n",
      "Humidity (%) low 2\n",
      "Sea Level Press. (hPa) high 19\n",
      "Sea Level Press. (hPa) avg 19\n",
      "Sea Level Press. (hPa) low 19\n",
      "Visibility (km) high 28\n",
      "Visibility (km) avg 28\n",
      "Visibility (km) low 28\n",
      "Wind (km/h) low 20\n",
      "Wind (km/h) avg 20\n",
      "Wind (km/h) high 59\n",
      "Precip. (mm) sum 1\n",
      "date 0\n"
     ]
    }
   ],
   "source": [
    "for i in mydata.columns:\n",
    "    print(i,sum(mydata[i]=='-'))"
   ]
  },
  {
   "cell_type": "code",
   "execution_count": 67,
   "metadata": {
    "colab": {},
    "colab_type": "code",
    "id": "9Id7jcrO5-XA"
   },
   "outputs": [],
   "source": [
    "# for joining each table row wise\n",
    "mydata=pd.concat([table_9,table_10,table_11,table_12,table_13,table_14,table_15,table_16],ignore_index=True)"
   ]
  },
  {
   "cell_type": "code",
   "execution_count": 68,
   "metadata": {},
   "outputs": [],
   "source": [
    "# for changing the year column into str \n",
    "mydata['Year']=mydata.Year.astype(str)"
   ]
  },
  {
   "cell_type": "code",
   "execution_count": 86,
   "metadata": {},
   "outputs": [
    {
     "data": {
      "text/html": [
       "<div>\n",
       "<style scoped>\n",
       "    .dataframe tbody tr th:only-of-type {\n",
       "        vertical-align: middle;\n",
       "    }\n",
       "\n",
       "    .dataframe tbody tr th {\n",
       "        vertical-align: top;\n",
       "    }\n",
       "\n",
       "    .dataframe thead th {\n",
       "        text-align: right;\n",
       "    }\n",
       "</style>\n",
       "<table border=\"1\" class=\"dataframe\">\n",
       "  <thead>\n",
       "    <tr style=\"text-align: right;\">\n",
       "      <th></th>\n",
       "      <th>Temp high (°C)</th>\n",
       "      <th>Temp avg (°C)</th>\n",
       "      <th>Temp low (°C)</th>\n",
       "      <th>Dew Point high (°C)</th>\n",
       "      <th>Dew Point avg (°C)</th>\n",
       "      <th>Dew Point low (°C)</th>\n",
       "      <th>Humidity (%) high</th>\n",
       "      <th>Humidity (%) avg</th>\n",
       "      <th>Humidity (%) low</th>\n",
       "      <th>Sea Level Press. (hPa) high</th>\n",
       "      <th>Sea Level Press. (hPa) avg</th>\n",
       "      <th>Sea Level Press. (hPa) low</th>\n",
       "      <th>Visibility (km) high</th>\n",
       "      <th>Visibility (km) avg</th>\n",
       "      <th>Visibility (km) low</th>\n",
       "      <th>Wind (km/h) low</th>\n",
       "      <th>Wind (km/h) avg</th>\n",
       "      <th>Wind (km/h) high</th>\n",
       "      <th>Precip. (mm) sum</th>\n",
       "      <th>date</th>\n",
       "    </tr>\n",
       "  </thead>\n",
       "  <tbody>\n",
       "    <tr>\n",
       "      <th>0</th>\n",
       "      <td>-3</td>\n",
       "      <td>-6</td>\n",
       "      <td>-9</td>\n",
       "      <td>-16</td>\n",
       "      <td>-17</td>\n",
       "      <td>-19</td>\n",
       "      <td>54</td>\n",
       "      <td>43</td>\n",
       "      <td>32</td>\n",
       "      <td>1025</td>\n",
       "      <td>1023</td>\n",
       "      <td>1015</td>\n",
       "      <td>16</td>\n",
       "      <td>16</td>\n",
       "      <td>16</td>\n",
       "      <td>37</td>\n",
       "      <td>18</td>\n",
       "      <td>60</td>\n",
       "      <td>0</td>\n",
       "      <td>2009-Jan</td>\n",
       "    </tr>\n",
       "    <tr>\n",
       "      <th>1</th>\n",
       "      <td>1</td>\n",
       "      <td>-2</td>\n",
       "      <td>-5</td>\n",
       "      <td>-3</td>\n",
       "      <td>-7</td>\n",
       "      <td>-17</td>\n",
       "      <td>78</td>\n",
       "      <td>57</td>\n",
       "      <td>36</td>\n",
       "      <td>1022</td>\n",
       "      <td>1012</td>\n",
       "      <td>1007</td>\n",
       "      <td>16</td>\n",
       "      <td>13</td>\n",
       "      <td>2</td>\n",
       "      <td>27</td>\n",
       "      <td>10</td>\n",
       "      <td>48</td>\n",
       "      <td>T</td>\n",
       "      <td>2009-Jan</td>\n",
       "    </tr>\n",
       "    <tr>\n",
       "      <th>2</th>\n",
       "      <td>3</td>\n",
       "      <td>1</td>\n",
       "      <td>-2</td>\n",
       "      <td>-5</td>\n",
       "      <td>-9</td>\n",
       "      <td>-13</td>\n",
       "      <td>72</td>\n",
       "      <td>54</td>\n",
       "      <td>35</td>\n",
       "      <td>1018</td>\n",
       "      <td>1015</td>\n",
       "      <td>1008</td>\n",
       "      <td>16</td>\n",
       "      <td>16</td>\n",
       "      <td>16</td>\n",
       "      <td>27</td>\n",
       "      <td>16</td>\n",
       "      <td>42</td>\n",
       "      <td>T</td>\n",
       "      <td>2009-Jan</td>\n",
       "    </tr>\n",
       "    <tr>\n",
       "      <th>3</th>\n",
       "      <td>6</td>\n",
       "      <td>1</td>\n",
       "      <td>-4</td>\n",
       "      <td>-10</td>\n",
       "      <td>-12</td>\n",
       "      <td>-13</td>\n",
       "      <td>55</td>\n",
       "      <td>42</td>\n",
       "      <td>29</td>\n",
       "      <td>1020</td>\n",
       "      <td>1017</td>\n",
       "      <td>1015</td>\n",
       "      <td>16</td>\n",
       "      <td>16</td>\n",
       "      <td>16</td>\n",
       "      <td>32</td>\n",
       "      <td>12</td>\n",
       "      <td>40</td>\n",
       "      <td>0</td>\n",
       "      <td>2009-Jan</td>\n",
       "    </tr>\n",
       "    <tr>\n",
       "      <th>4</th>\n",
       "      <td>6</td>\n",
       "      <td>5</td>\n",
       "      <td>3</td>\n",
       "      <td>-1</td>\n",
       "      <td>-5</td>\n",
       "      <td>-16</td>\n",
       "      <td>62</td>\n",
       "      <td>48</td>\n",
       "      <td>33</td>\n",
       "      <td>1016</td>\n",
       "      <td>1014</td>\n",
       "      <td>1013</td>\n",
       "      <td>16</td>\n",
       "      <td>16</td>\n",
       "      <td>16</td>\n",
       "      <td>23</td>\n",
       "      <td>11</td>\n",
       "      <td>34</td>\n",
       "      <td>T</td>\n",
       "      <td>2009-Jan</td>\n",
       "    </tr>\n",
       "  </tbody>\n",
       "</table>\n",
       "</div>"
      ],
      "text/plain": [
       "  Temp high (°C) Temp avg (°C) Temp low (°C) Dew Point high (°C)  \\\n",
       "0             -3            -6            -9                 -16   \n",
       "1              1            -2            -5                  -3   \n",
       "2              3             1            -2                  -5   \n",
       "3              6             1            -4                 -10   \n",
       "4              6             5             3                  -1   \n",
       "\n",
       "  Dew Point avg (°C) Dew Point low (°C) Humidity (%) high Humidity (%) avg  \\\n",
       "0                -17                -19                54               43   \n",
       "1                 -7                -17                78               57   \n",
       "2                 -9                -13                72               54   \n",
       "3                -12                -13                55               42   \n",
       "4                 -5                -16                62               48   \n",
       "\n",
       "  Humidity (%) low Sea Level Press. (hPa) high Sea Level Press. (hPa) avg  \\\n",
       "0               32                        1025                       1023   \n",
       "1               36                        1022                       1012   \n",
       "2               35                        1018                       1015   \n",
       "3               29                        1020                       1017   \n",
       "4               33                        1016                       1014   \n",
       "\n",
       "  Sea Level Press. (hPa) low Visibility (km) high Visibility (km) avg  \\\n",
       "0                       1015                   16                  16   \n",
       "1                       1007                   16                  13   \n",
       "2                       1008                   16                  16   \n",
       "3                       1015                   16                  16   \n",
       "4                       1013                   16                  16   \n",
       "\n",
       "  Visibility (km) low Wind (km/h) low Wind (km/h) avg Wind (km/h) high  \\\n",
       "0                  16              37              18               60   \n",
       "1                   2              27              10               48   \n",
       "2                  16              27              16               42   \n",
       "3                  16              32              12               40   \n",
       "4                  16              23              11               34   \n",
       "\n",
       "  Precip. (mm) sum      date  \n",
       "0                0  2009-Jan  \n",
       "1                T  2009-Jan  \n",
       "2                T  2009-Jan  \n",
       "3                0  2009-Jan  \n",
       "4                T  2009-Jan  "
      ]
     },
     "execution_count": 86,
     "metadata": {},
     "output_type": "execute_result"
    }
   ],
   "source": [
    "mydata.head()"
   ]
  },
  {
   "cell_type": "code",
   "execution_count": 69,
   "metadata": {},
   "outputs": [],
   "source": [
    "# for creating two columns into one for id purpose\n",
    "mydata['date']=mydata['Year']+'-'+mydata['Month']"
   ]
  },
  {
   "cell_type": "code",
   "execution_count": 71,
   "metadata": {
    "colab": {},
    "colab_type": "code",
    "id": "ZdGqaAim5-XC"
   },
   "outputs": [],
   "source": [
    "mydata.drop(['WeatherEvent','Year','Month'],axis=1,inplace=True)"
   ]
  },
  {
   "cell_type": "code",
   "execution_count": 73,
   "metadata": {},
   "outputs": [],
   "source": [
    "mydata.drop(['Day'],axis=1,inplace=True)"
   ]
  },
  {
   "cell_type": "code",
   "execution_count": 74,
   "metadata": {
    "colab": {},
    "colab_type": "code",
    "id": "5VqUS-5Y5-XE"
   },
   "outputs": [],
   "source": [
    "mydata.dropna(inplace=True)"
   ]
  },
  {
   "cell_type": "code",
   "execution_count": 30,
   "metadata": {
    "colab": {},
    "colab_type": "code",
    "id": "5hmDKlyM5-XJ"
   },
   "outputs": [],
   "source": [
    "mydata=mydata.reset_index()"
   ]
  },
  {
   "cell_type": "code",
   "execution_count": 31,
   "metadata": {
    "colab": {},
    "colab_type": "code",
    "id": "sjoB4p9X5-XL"
   },
   "outputs": [],
   "source": [
    "mydata.drop('index',axis=1,inplace=True)"
   ]
  },
  {
   "cell_type": "code",
   "execution_count": 75,
   "metadata": {
    "colab": {
     "base_uri": "https://localhost:8080/",
     "height": 403
    },
    "colab_type": "code",
    "id": "LerwOkqg5-XO",
    "outputId": "b527ace6-a5fc-4829-913e-b182b4c01dae"
   },
   "outputs": [
    {
     "data": {
      "text/plain": [
       "Temp high (°C)                 0\n",
       "Temp avg (°C)                  0\n",
       "Temp low (°C)                  0\n",
       "Dew Point high (°C)            0\n",
       "Dew Point avg (°C)             0\n",
       "Dew Point low (°C)             0\n",
       "Humidity (%) high              0\n",
       "Humidity (%) avg               0\n",
       "Humidity (%) low               0\n",
       "Sea Level Press. (hPa) high    0\n",
       "Sea Level Press. (hPa) avg     0\n",
       "Sea Level Press. (hPa) low     0\n",
       "Visibility (km) high           0\n",
       "Visibility (km) avg            0\n",
       "Visibility (km) low            0\n",
       "Wind (km/h) low                0\n",
       "Wind (km/h) avg                0\n",
       "Wind (km/h) high               0\n",
       "Precip. (mm) sum               0\n",
       "date                           0\n",
       "dtype: int64"
      ]
     },
     "execution_count": 75,
     "metadata": {},
     "output_type": "execute_result"
    }
   ],
   "source": [
    "mydata.isnull().sum()"
   ]
  },
  {
   "cell_type": "code",
   "execution_count": null,
   "metadata": {},
   "outputs": [],
   "source": [
    "# anamoly in the data  which should be processed \n",
    "'high','-','avg','low','T','sum'"
   ]
  },
  {
   "cell_type": "code",
   "execution_count": 98,
   "metadata": {},
   "outputs": [
    {
     "data": {
      "text/plain": [
       "28"
      ]
     },
     "execution_count": 98,
     "metadata": {},
     "output_type": "execute_result"
    }
   ],
   "source": [
    "mydata['Temp high (°C)'].mode()[0]"
   ]
  },
  {
   "cell_type": "code",
   "execution_count": 88,
   "metadata": {},
   "outputs": [],
   "source": [
    "mydata['Temp high (°C)'].replace(to_replace='high',value=mydata['Temp high (°C)'].mode()[0],inplace=True)"
   ]
  },
  {
   "cell_type": "code",
   "execution_count": 99,
   "metadata": {},
   "outputs": [],
   "source": [
    "# reaplacing the 'high' values with mode\n",
    "for i in mydata.columns[0:-1]:\n",
    "    mydata[i].replace(to_replace='high',value=mydata[i].mode()[0],inplace=True)\n",
    "    "
   ]
  },
  {
   "cell_type": "code",
   "execution_count": 101,
   "metadata": {},
   "outputs": [],
   "source": [
    "# reaplacing the '-' values with mode\n",
    "for i in mydata.columns[0:-1]:\n",
    "    mydata[i].replace(to_replace='-',value=mydata[i].mode()[0],inplace=True)\n",
    "    "
   ]
  },
  {
   "cell_type": "code",
   "execution_count": 102,
   "metadata": {},
   "outputs": [],
   "source": [
    "# reaplacing the 'avg' values with mode\n",
    "for i in mydata.columns[0:-1]:\n",
    "    mydata[i].replace(to_replace='avg',value=mydata[i].mode()[0],inplace=True)\n",
    "    "
   ]
  },
  {
   "cell_type": "code",
   "execution_count": 103,
   "metadata": {},
   "outputs": [],
   "source": [
    "# reaplacing the 'low' values with mode\n",
    "for i in mydata.columns[0:-1]:\n",
    "    mydata[i].replace(to_replace='low',value=mydata[i].mode()[0],inplace=True)\n",
    "    "
   ]
  },
  {
   "cell_type": "code",
   "execution_count": 104,
   "metadata": {},
   "outputs": [],
   "source": [
    "# # reaplacing the 'Sum' values with mode\n",
    "for i in mydata.columns[0:-1]:\n",
    "    mydata[i].replace(to_replace='sum',value=mydata[i].mode()[0],inplace=True)\n",
    "    "
   ]
  },
  {
   "cell_type": "code",
   "execution_count": 105,
   "metadata": {},
   "outputs": [],
   "source": [
    "# reaplacing the 'T' values with mode\n",
    "for i in mydata.columns[0:-1]:\n",
    "    mydata[i].replace(to_replace='T',value=mydata[i].mode()[0],inplace=True)\n",
    "    "
   ]
  },
  {
   "cell_type": "code",
   "execution_count": 106,
   "metadata": {
    "colab": {},
    "colab_type": "code",
    "id": "3CKrSe9o5-XR",
    "outputId": "1f17480c-351c-4e85-86b3-c67197633ec1"
   },
   "outputs": [
    {
     "name": "stdout",
     "output_type": "stream",
     "text": [
      "Temp high (°C) [-3  1  3  6  0 -1  5  2 -6 -9 -2  8 11 12 10 14  7 18  4 16 13 21  9 17\n",
      " 15 22 26 31 33 29 32 20 23 24 19 28 30 27 25 -5 -7 34 36 37 39 38 35 -4\n",
      " 40 -8]\n",
      "Temp avg (°C) [ -6  -2   1   5   2  -3  -7 -11 -10  -1  -4   4   0   7  -9   9   6  13\n",
      "  11   3   8  16  14  10  12  19  21  27  22  15  17  18  20  23  24  25\n",
      "  26  28  29  -5  -8  31  33  32  30  34 -12 -14]\n",
      "Temp low (°C) [ -9  -5  -2  -4   3  -1  -3  -6 -13 -14  -7  -8 -11   1   2   7   0   6\n",
      "  11   9   5   4   8  12  19  14  21  13  10  16  17  15  18  20  22  23\n",
      "  24 -10  26  27  25 -12  29  28 -16 -17 -18]\n",
      "Dew Point high (°C) [-16  -3  -5 -10  -1  -2   2   0  -9 -13  -7 -11   4  -4 -17   1   6  -6\n",
      "   3   9  11  -8   8 -12  10   5   7  14  12  13  18  17  19  15  16  20\n",
      "  21  22  23  24  25 -14 -15 -18 -22 -19 -21 -24  26]\n",
      "Dew Point avg (°C) [-17  -7  -9 -12  -5 -11   1  -6 -10  -4 -16 -13 -20 -19  -3 -14 -15  -1\n",
      "  -2 -18   0   6   2  -8   7   4   8  10   3   5   9  12  11  16  14  13\n",
      "  15  17  18  19  21  22  20  23  24 -21 -24 -22 -23 -27]\n",
      "Dew Point low (°C) [-19 -17 -13 -16 -18  -2  -9 -12 -11 -20 -22  -6  -7   2  -3 -15  -5 -14\n",
      "   3   4 -21 -10   6   7  -1   1  -4  -8   8   9  10  11   5  13  14   0\n",
      "  12  15  16  17  18  19  21  20  22 -27 -23 -24 -25 -28]\n",
      "Humidity (%) high [ 54  78  72  55  62  85  96  82  58  88  92  77  70  84  59  60 100  81\n",
      "  67  66  57  69  75  68  61  76  80  89  53  50  63  64  83  93  45  32\n",
      "  46  48  74  44  51  65  37  86  97  56  71  73  90  87  79  94  52  47\n",
      "  41  42  49  40  43  35  28  39  91  36  34]\n",
      "Humidity (%) avg [43 57 54 42 48 91 63 51 69 78 61 62 52 66 50 55 46 44 70 60 53 88 47 58\n",
      " 49 67 37 40 45 74 64 76 56 75 59 82 73 34 23 33 38 71 92 83 80 72 39 41\n",
      " 28 90 77 84 86 97 95 68 87 89 65 81 79 85 94 93 29 31 36 27 32 30 35 20\n",
      " 26 96]\n",
      "Humidity (%) low [32 36 35 29 33 22 85 44 43 50 63 45 53 47 39 55 38 31 37 30 75 34 52 20\n",
      " 27 40 28 59 42 51 54 41 46 71 24 49 17 14 19 83 65 60 26 23 16 21 18 80\n",
      " 61 68 48 72 93 89 81 67 73 84 78 57 66 64 62 58 79 56 69 87 90 70 82 25\n",
      " 76 13 86 15 77 74 12 11 92  9]\n",
      "Sea Level Press. (hPa) high [1025 1022 1018 1020 1016 1019 1008 1006 1024 1026 1030 1035 1036 1007\n",
      " 1015 1017 1027 1028 1031 1033 1029 1014 1004 1023 1021 1032 1034 1011\n",
      " 1012 1005 1009 1001 1010 1000 1013 1003  996 1002  998  994 1039 1040\n",
      " 1037 1038  995  999 1041 1042 1044 1043]\n",
      "Sea Level Press. (hPa) avg [1023 1012 1015 1017 1014  994  997 1016 1022 1011 1032 1031 1013 1005\n",
      " 1027 1029 1009 1026 1024 1028 1010  996 1021 1008 1019 1030 1018 1025\n",
      " 1000 1004  998  999 1007 1020 1006 1003 1001 1002  992  988 1033  989\n",
      "  993 1036 1038 1035  987 1037 1034  991  980  990 1041 1040]\n",
      "Sea Level Press. (hPa) low [1015 1007 1008 1013 1009  986  989 1006 1012 1019 1029 1025 1003 1014\n",
      " 1028  999 1010 1011 1005 1022 1027 1024 1018  997  992 1004 1020 1021\n",
      "  994 1016 1023 1026 1030  993  995  987 1002 1017 1000  998 1001  988\n",
      "  983  980  978  996  991 1031 1034 1033  966  990  982 1035  984 1032\n",
      " 1036 1037]\n",
      "Visibility (km) high [16 13 14 11 10  8]\n",
      "Visibility (km) avg [16 13 14  8  9  7  5  6 15 11 10 12  4  2  3  1]\n",
      "Visibility (km) low [16  2  6  3  1  5 14  0 11  8  4 13 10]\n",
      "Wind (km/h) low [ 37  27  32  23  24  40  34  29  26  19  14  35  16  21  48  39  42  10\n",
      "  13  45  47  11  60  50  52  61   6   8 159 121]\n",
      "Wind (km/h) avg [ 18  10  16  12  11  17   9  14  15   4  13   8   7   6  22  19  21  24\n",
      "   5   0   2   3  20  23  25  37  28  26   1  30 159]\n",
      "Wind (km/h) high [ 60  48  42  40  34  29  52  50  47  39  35  32  27  21  37  56  23  26\n",
      "  53  24  77  58  61  45  11  19  64  71  14  63  66  85  69  16  76  97\n",
      "  43  31  55 100  72  74  18 159  68]\n",
      "Precip. (mm) sum [  0.     2.03  30.23   3.56   4.83   1.27   4.57  24.64   7.11   0.76\n",
      "   3.05   8.13   1.78   1.02   3.81  12.45   0.25   2.54   3.3   10.16\n",
      "   9.4    9.14  23.11  14.22   4.32   5.08  45.47   2.29  10.67   2.79\n",
      "  10.41   8.89   7.87  29.21  26.92  15.75   4.06   1.52  10.92  12.7\n",
      "  13.72  23.88   0.51  46.48  15.49  58.42  11.43   7.62  18.54  16.76\n",
      "  15.24   8.38   5.33  28.96   9.91  36.07  38.61  18.03  26.67  13.46\n",
      "  16.26  18.8   12.95  13.97  21.34  26.16   7.37  14.99  45.97  32.77\n",
      "   6.86  37.59  24.13   6.1    5.84  14.48  31.75  33.78  30.48  50.8\n",
      "  29.72  98.04  34.04   8.64  40.13  62.23  40.64  17.53  27.69  22.61\n",
      "   6.35  17.78  42.93  25.4   11.68  27.94  62.48  28.7   35.05  13.21\n",
      "  32.26  21.84  33.53  11.18  51.31  27.18  22.1    9.65  36.83  19.05\n",
      "  17.02  55.37  46.23   6.6   27.43  19.3   53.09 147.57  31.5   73.15\n",
      " 101.35  81.79  30.73  22.86  66.29  18.29  25.91  28.45  16.    29.46\n",
      "  11.94  42.67   5.59  35.56  44.7   14.73  39.12  49.78  25.15  39.62\n",
      "  20.07  76.71  21.59 105.66  12.19  32.    16.51  50.29  36.32  45.21\n",
      "  23.37 126.24  32.51  24.38  33.02  29.97  28.19  38.35  30.99  64.52\n",
      "  20.32  53.34  20.57  34.8   37.08  49.53  39.37  45.72  58.67  25.65\n",
      "  41.91  21.08  20.83  17.27  35.81  55.88]\n",
      "date ['2009-Jan' '2009-Feb' '2009-Mar' '2009-Apr' '2009-May' '2009-Jun'\n",
      " '2009-Jul' '2009-Aug' '2009-Sep' '2009-Oct' '2009-Nov' '2009-Dec'\n",
      " '2010-Jan' '2010-Feb' '2010-Mar' '2010-Apr' '2010-May' '2010-Jun'\n",
      " '2010-Jul' '2010-Aug' '2010-Sep' '2010-Oct' '2010-Nov' '2010-Dec'\n",
      " '2011-Jan' '2011-Feb' '2011-Mar' '2011-Apr' '2011-May' '2011-Jun'\n",
      " '2011-Jul' '2011-Aug' '2011-Sep' '2011-Oct' '2011-Nov' '2011-Dec'\n",
      " '2012-Jan' '2012-Feb' '2012-Mar' '2012-Apr' '2012-May' '2012-Jun'\n",
      " '2012-Jul' '2012-Aug' '2012-Sep' '2012-Oct' '2012-Nov' '2012-Dec'\n",
      " '2013-Jan' '2013-Feb' '2013-Mar' '2013-Apr' '2013-May' '2013-Jun'\n",
      " '2013-Jul' '2013-Aug' '2013-Sep' '2013-Oct' '2013-Nov' '2013-Dec'\n",
      " '2014-Jan' '2014-Feb' '2014-Mar' '2014-Apr' '2014-May' '2014-Jun'\n",
      " '2014-Jul' '2014-Aug' '2014-Sep' '2014-Oct' '2014-Nov' '2014-Dec'\n",
      " '2015-Jan' '2015-Feb' '2015-Mar' '2015-Apr' '2015-May' '2015-Jun'\n",
      " '2015-Jul' '2015-Aug' '2015-Sep' '2015-Oct' '2015-Nov' '2015-Dec'\n",
      " '2016-Jan' '2016-Feb' '2016-Mar' '2016-Apr' '2016-May' '2016-Jun'\n",
      " '2016-Jul' '2016-Aug' '2016-Sep' '2016-Oct' '2016-Nov' '2016-Dec']\n"
     ]
    }
   ],
   "source": [
    "for i in mydata.columns:\n",
    "    print(i,mydata[i].unique())"
   ]
  },
  {
   "cell_type": "code",
   "execution_count": 113,
   "metadata": {},
   "outputs": [],
   "source": [
    "# cleaned and proccesed data of weatther\n",
    "weather=mydata.groupby(by='date').mean().reset_index()"
   ]
  },
  {
   "cell_type": "code",
   "execution_count": 132,
   "metadata": {},
   "outputs": [],
   "source": [
    "mydata.drop('Month',axis=1,inplace=True)"
   ]
  },
  {
   "cell_type": "code",
   "execution_count": 315,
   "metadata": {},
   "outputs": [
    {
     "data": {
      "text/html": [
       "<div>\n",
       "<style scoped>\n",
       "    .dataframe tbody tr th:only-of-type {\n",
       "        vertical-align: middle;\n",
       "    }\n",
       "\n",
       "    .dataframe tbody tr th {\n",
       "        vertical-align: top;\n",
       "    }\n",
       "\n",
       "    .dataframe thead th {\n",
       "        text-align: right;\n",
       "    }\n",
       "</style>\n",
       "<table border=\"1\" class=\"dataframe\">\n",
       "  <thead>\n",
       "    <tr style=\"text-align: right;\">\n",
       "      <th></th>\n",
       "      <th>date</th>\n",
       "      <th>Temp high (°C)</th>\n",
       "      <th>Temp avg (°C)</th>\n",
       "      <th>Temp low (°C)</th>\n",
       "      <th>Dew Point high (°C)</th>\n",
       "      <th>Dew Point avg (°C)</th>\n",
       "      <th>Dew Point low (°C)</th>\n",
       "      <th>Humidity (%) high</th>\n",
       "      <th>Humidity (%) avg</th>\n",
       "      <th>Humidity (%) low</th>\n",
       "      <th>Sea Level Press. (hPa) high</th>\n",
       "      <th>Sea Level Press. (hPa) avg</th>\n",
       "      <th>Sea Level Press. (hPa) low</th>\n",
       "      <th>Visibility (km) high</th>\n",
       "      <th>Visibility (km) avg</th>\n",
       "      <th>Visibility (km) low</th>\n",
       "      <th>Wind (km/h) low</th>\n",
       "      <th>Wind (km/h) avg</th>\n",
       "      <th>Wind (km/h) high</th>\n",
       "      <th>Precip. (mm) sum</th>\n",
       "    </tr>\n",
       "  </thead>\n",
       "  <tbody>\n",
       "    <tr>\n",
       "      <th>0</th>\n",
       "      <td>2009-Apr</td>\n",
       "      <td>17.100000</td>\n",
       "      <td>12.733333</td>\n",
       "      <td>7.833333</td>\n",
       "      <td>6.233333</td>\n",
       "      <td>2.533333</td>\n",
       "      <td>-1.200000</td>\n",
       "      <td>75.466667</td>\n",
       "      <td>55.700000</td>\n",
       "      <td>35.733333</td>\n",
       "      <td>1018.833333</td>\n",
       "      <td>1014.533333</td>\n",
       "      <td>1010.433333</td>\n",
       "      <td>15.9</td>\n",
       "      <td>14.066667</td>\n",
       "      <td>10.866667</td>\n",
       "      <td>27.300000</td>\n",
       "      <td>11.366667</td>\n",
       "      <td>39.566667</td>\n",
       "      <td>3.970667</td>\n",
       "    </tr>\n",
       "    <tr>\n",
       "      <th>1</th>\n",
       "      <td>2009-Aug</td>\n",
       "      <td>27.967742</td>\n",
       "      <td>24.387097</td>\n",
       "      <td>20.548387</td>\n",
       "      <td>20.451613</td>\n",
       "      <td>18.483871</td>\n",
       "      <td>16.129032</td>\n",
       "      <td>88.870968</td>\n",
       "      <td>72.483871</td>\n",
       "      <td>55.677419</td>\n",
       "      <td>1018.225806</td>\n",
       "      <td>1015.967742</td>\n",
       "      <td>1013.387097</td>\n",
       "      <td>16.0</td>\n",
       "      <td>14.483871</td>\n",
       "      <td>9.903226</td>\n",
       "      <td>19.290323</td>\n",
       "      <td>6.806452</td>\n",
       "      <td>28.064516</td>\n",
       "      <td>3.465806</td>\n",
       "    </tr>\n",
       "    <tr>\n",
       "      <th>2</th>\n",
       "      <td>2009-Dec</td>\n",
       "      <td>5.451613</td>\n",
       "      <td>2.354839</td>\n",
       "      <td>-1.032258</td>\n",
       "      <td>-0.935484</td>\n",
       "      <td>-4.677419</td>\n",
       "      <td>-8.709677</td>\n",
       "      <td>77.612903</td>\n",
       "      <td>61.741935</td>\n",
       "      <td>45.258065</td>\n",
       "      <td>1022.483871</td>\n",
       "      <td>1017.225806</td>\n",
       "      <td>1012.193548</td>\n",
       "      <td>16.0</td>\n",
       "      <td>13.774194</td>\n",
       "      <td>10.677419</td>\n",
       "      <td>28.580645</td>\n",
       "      <td>13.451613</td>\n",
       "      <td>42.838710</td>\n",
       "      <td>5.956452</td>\n",
       "    </tr>\n",
       "    <tr>\n",
       "      <th>3</th>\n",
       "      <td>2009-Feb</td>\n",
       "      <td>6.964286</td>\n",
       "      <td>2.785714</td>\n",
       "      <td>-1.642857</td>\n",
       "      <td>-2.464286</td>\n",
       "      <td>-6.392857</td>\n",
       "      <td>-10.571429</td>\n",
       "      <td>69.535714</td>\n",
       "      <td>54.000000</td>\n",
       "      <td>38.107143</td>\n",
       "      <td>1021.714286</td>\n",
       "      <td>1017.071429</td>\n",
       "      <td>1012.464286</td>\n",
       "      <td>16.0</td>\n",
       "      <td>15.178571</td>\n",
       "      <td>13.285714</td>\n",
       "      <td>27.928571</td>\n",
       "      <td>12.214286</td>\n",
       "      <td>41.642857</td>\n",
       "      <td>0.780357</td>\n",
       "    </tr>\n",
       "    <tr>\n",
       "      <th>4</th>\n",
       "      <td>2009-Jan</td>\n",
       "      <td>0.741935</td>\n",
       "      <td>-2.096774</td>\n",
       "      <td>-5.322581</td>\n",
       "      <td>-6.096774</td>\n",
       "      <td>-9.903226</td>\n",
       "      <td>-14.000000</td>\n",
       "      <td>71.774194</td>\n",
       "      <td>57.354839</td>\n",
       "      <td>42.322581</td>\n",
       "      <td>1021.290323</td>\n",
       "      <td>1015.967742</td>\n",
       "      <td>1010.516129</td>\n",
       "      <td>16.0</td>\n",
       "      <td>14.000000</td>\n",
       "      <td>11.451613</td>\n",
       "      <td>27.000000</td>\n",
       "      <td>12.000000</td>\n",
       "      <td>39.322581</td>\n",
       "      <td>2.441935</td>\n",
       "    </tr>\n",
       "  </tbody>\n",
       "</table>\n",
       "</div>"
      ],
      "text/plain": [
       "       date  Temp high (°C)  Temp avg (°C)  Temp low (°C)  \\\n",
       "0  2009-Apr       17.100000      12.733333       7.833333   \n",
       "1  2009-Aug       27.967742      24.387097      20.548387   \n",
       "2  2009-Dec        5.451613       2.354839      -1.032258   \n",
       "3  2009-Feb        6.964286       2.785714      -1.642857   \n",
       "4  2009-Jan        0.741935      -2.096774      -5.322581   \n",
       "\n",
       "   Dew Point high (°C)  Dew Point avg (°C)  Dew Point low (°C)  \\\n",
       "0             6.233333            2.533333           -1.200000   \n",
       "1            20.451613           18.483871           16.129032   \n",
       "2            -0.935484           -4.677419           -8.709677   \n",
       "3            -2.464286           -6.392857          -10.571429   \n",
       "4            -6.096774           -9.903226          -14.000000   \n",
       "\n",
       "   Humidity (%) high  Humidity (%) avg  Humidity (%) low  \\\n",
       "0          75.466667         55.700000         35.733333   \n",
       "1          88.870968         72.483871         55.677419   \n",
       "2          77.612903         61.741935         45.258065   \n",
       "3          69.535714         54.000000         38.107143   \n",
       "4          71.774194         57.354839         42.322581   \n",
       "\n",
       "   Sea Level Press. (hPa) high  Sea Level Press. (hPa) avg  \\\n",
       "0                  1018.833333                 1014.533333   \n",
       "1                  1018.225806                 1015.967742   \n",
       "2                  1022.483871                 1017.225806   \n",
       "3                  1021.714286                 1017.071429   \n",
       "4                  1021.290323                 1015.967742   \n",
       "\n",
       "   Sea Level Press. (hPa) low  Visibility (km) high  Visibility (km) avg  \\\n",
       "0                 1010.433333                  15.9            14.066667   \n",
       "1                 1013.387097                  16.0            14.483871   \n",
       "2                 1012.193548                  16.0            13.774194   \n",
       "3                 1012.464286                  16.0            15.178571   \n",
       "4                 1010.516129                  16.0            14.000000   \n",
       "\n",
       "   Visibility (km) low  Wind (km/h) low  Wind (km/h) avg  Wind (km/h) high  \\\n",
       "0            10.866667        27.300000        11.366667         39.566667   \n",
       "1             9.903226        19.290323         6.806452         28.064516   \n",
       "2            10.677419        28.580645        13.451613         42.838710   \n",
       "3            13.285714        27.928571        12.214286         41.642857   \n",
       "4            11.451613        27.000000        12.000000         39.322581   \n",
       "\n",
       "   Precip. (mm) sum  \n",
       "0          3.970667  \n",
       "1          3.465806  \n",
       "2          5.956452  \n",
       "3          0.780357  \n",
       "4          2.441935  "
      ]
     },
     "execution_count": 315,
     "metadata": {},
     "output_type": "execute_result"
    }
   ],
   "source": [
    "weather.head()"
   ]
  },
  {
   "cell_type": "markdown",
   "metadata": {},
   "source": [
    "# cleaning events holiday day"
   ]
  },
  {
   "cell_type": "code",
   "execution_count": 147,
   "metadata": {},
   "outputs": [],
   "source": [
    "\n",
    "events=pd.read_table('/Users/MCHARU/Desktop/events_holidays2.csv',sep=',')"
   ]
  },
  {
   "cell_type": "code",
   "execution_count": 125,
   "metadata": {},
   "outputs": [
    {
     "name": "stdout",
     "output_type": "stream",
     "text": [
      "<class 'pandas.core.frame.DataFrame'>\n",
      "RangeIndex: 150 entries, 0 to 149\n",
      "Data columns (total 4 columns):\n",
      "Year           150 non-null int64\n",
      "MonthDate      150 non-null object\n",
      "Event          150 non-null object\n",
      "DayCategory    150 non-null object\n",
      "dtypes: int64(1), object(3)\n",
      "memory usage: 4.8+ KB\n"
     ]
    }
   ],
   "source": [
    "events.info()"
   ]
  },
  {
   "cell_type": "code",
   "execution_count": 155,
   "metadata": {},
   "outputs": [
    {
     "data": {
      "text/html": [
       "<div>\n",
       "<style scoped>\n",
       "    .dataframe tbody tr th:only-of-type {\n",
       "        vertical-align: middle;\n",
       "    }\n",
       "\n",
       "    .dataframe tbody tr th {\n",
       "        vertical-align: top;\n",
       "    }\n",
       "\n",
       "    .dataframe thead th {\n",
       "        text-align: right;\n",
       "    }\n",
       "</style>\n",
       "<table border=\"1\" class=\"dataframe\">\n",
       "  <thead>\n",
       "    <tr style=\"text-align: right;\">\n",
       "      <th></th>\n",
       "      <th>Event</th>\n",
       "      <th>DayCategory</th>\n",
       "      <th>date</th>\n",
       "    </tr>\n",
       "  </thead>\n",
       "  <tbody>\n",
       "    <tr>\n",
       "      <th>0</th>\n",
       "      <td>New Year's Day</td>\n",
       "      <td>Federal Holiday</td>\n",
       "      <td>2009-Jan</td>\n",
       "    </tr>\n",
       "    <tr>\n",
       "      <th>1</th>\n",
       "      <td>Martin Luther King Jr. Day</td>\n",
       "      <td>Federal Holiday</td>\n",
       "      <td>2009-Jan</td>\n",
       "    </tr>\n",
       "    <tr>\n",
       "      <th>2</th>\n",
       "      <td>Valentine's Day</td>\n",
       "      <td>Event</td>\n",
       "      <td>2009-Feb</td>\n",
       "    </tr>\n",
       "    <tr>\n",
       "      <th>3</th>\n",
       "      <td>Presidents' Day</td>\n",
       "      <td>Federal Holiday</td>\n",
       "      <td>2009-Feb</td>\n",
       "    </tr>\n",
       "    <tr>\n",
       "      <th>4</th>\n",
       "      <td>Easter Sunday</td>\n",
       "      <td>Event</td>\n",
       "      <td>2009-Apr</td>\n",
       "    </tr>\n",
       "  </tbody>\n",
       "</table>\n",
       "</div>"
      ],
      "text/plain": [
       "                        Event      DayCategory      date\n",
       "0              New Year's Day  Federal Holiday  2009-Jan\n",
       "1  Martin Luther King Jr. Day  Federal Holiday  2009-Jan\n",
       "2             Valentine's Day            Event  2009-Feb\n",
       "3             Presidents' Day  Federal Holiday  2009-Feb\n",
       "4               Easter Sunday            Event  2009-Apr"
      ]
     },
     "execution_count": 155,
     "metadata": {},
     "output_type": "execute_result"
    }
   ],
   "source": [
    "events.head()"
   ]
  },
  {
   "cell_type": "code",
   "execution_count": 148,
   "metadata": {},
   "outputs": [],
   "source": [
    "events['MonthDate']=events.MonthDate.str.split('-',expand=True)[0]"
   ]
  },
  {
   "cell_type": "code",
   "execution_count": 149,
   "metadata": {},
   "outputs": [],
   "source": [
    "events.Year=events.Year.astype(str)"
   ]
  },
  {
   "cell_type": "code",
   "execution_count": null,
   "metadata": {},
   "outputs": [],
   "source": [
    "events['date']=events['Year']+'-'+events['MonthDate']"
   ]
  },
  {
   "cell_type": "code",
   "execution_count": 154,
   "metadata": {},
   "outputs": [],
   "source": [
    "events.drop(['Year','MonthDate'],axis=1,inplace=True)"
   ]
  },
  {
   "cell_type": "code",
   "execution_count": 169,
   "metadata": {},
   "outputs": [],
   "source": [
    "events_=pd.DataFrame(events.date.value_counts()).reset_index()"
   ]
  },
  {
   "cell_type": "code",
   "execution_count": 175,
   "metadata": {},
   "outputs": [
    {
     "data": {
      "text/html": [
       "<div>\n",
       "<style scoped>\n",
       "    .dataframe tbody tr th:only-of-type {\n",
       "        vertical-align: middle;\n",
       "    }\n",
       "\n",
       "    .dataframe tbody tr th {\n",
       "        vertical-align: top;\n",
       "    }\n",
       "\n",
       "    .dataframe thead th {\n",
       "        text-align: right;\n",
       "    }\n",
       "</style>\n",
       "<table border=\"1\" class=\"dataframe\">\n",
       "  <thead>\n",
       "    <tr style=\"text-align: right;\">\n",
       "      <th></th>\n",
       "      <th>date</th>\n",
       "      <th>days</th>\n",
       "    </tr>\n",
       "  </thead>\n",
       "  <tbody>\n",
       "    <tr>\n",
       "      <th>0</th>\n",
       "      <td>2010-Dec</td>\n",
       "      <td>5</td>\n",
       "    </tr>\n",
       "    <tr>\n",
       "      <th>1</th>\n",
       "      <td>2015-Dec</td>\n",
       "      <td>4</td>\n",
       "    </tr>\n",
       "    <tr>\n",
       "      <th>2</th>\n",
       "      <td>2016-Dec</td>\n",
       "      <td>4</td>\n",
       "    </tr>\n",
       "    <tr>\n",
       "      <th>3</th>\n",
       "      <td>2011-Dec</td>\n",
       "      <td>4</td>\n",
       "    </tr>\n",
       "    <tr>\n",
       "      <th>4</th>\n",
       "      <td>2012-Jan</td>\n",
       "      <td>3</td>\n",
       "    </tr>\n",
       "  </tbody>\n",
       "</table>\n",
       "</div>"
      ],
      "text/plain": [
       "       date  days\n",
       "0  2010-Dec     5\n",
       "1  2015-Dec     4\n",
       "2  2016-Dec     4\n",
       "3  2011-Dec     4\n",
       "4  2012-Jan     3"
      ]
     },
     "execution_count": 175,
     "metadata": {},
     "output_type": "execute_result"
    }
   ],
   "source": [
    "events_.head()"
   ]
  },
  {
   "cell_type": "code",
   "execution_count": 174,
   "metadata": {},
   "outputs": [],
   "source": [
    "# prepared data foe the evensts\n",
    "events_=events_.rename({'index':'date','date':'days'},axis=1)"
   ]
  },
  {
   "cell_type": "markdown",
   "metadata": {},
   "source": [
    "# Cleaning Macro data"
   ]
  },
  {
   "cell_type": "code",
   "execution_count": 181,
   "metadata": {},
   "outputs": [],
   "source": [
    "macro=pd.read_excel('/Users/MCHARU/Desktop/macro_economic.xlsx')"
   ]
  },
  {
   "cell_type": "code",
   "execution_count": 188,
   "metadata": {},
   "outputs": [
    {
     "data": {
      "text/html": [
       "<div>\n",
       "<style scoped>\n",
       "    .dataframe tbody tr th:only-of-type {\n",
       "        vertical-align: middle;\n",
       "    }\n",
       "\n",
       "    .dataframe tbody tr th {\n",
       "        vertical-align: top;\n",
       "    }\n",
       "\n",
       "    .dataframe thead th {\n",
       "        text-align: right;\n",
       "    }\n",
       "</style>\n",
       "<table border=\"1\" class=\"dataframe\">\n",
       "  <thead>\n",
       "    <tr style=\"text-align: right;\">\n",
       "      <th></th>\n",
       "      <th>Year-Month</th>\n",
       "      <th>Monthly Nominal GDP Index (inMillion$)</th>\n",
       "      <th>Monthly Real GDP Index (inMillion$)</th>\n",
       "      <th>CPI</th>\n",
       "      <th>PartyInPower</th>\n",
       "      <th>unemployment rate</th>\n",
       "      <th>CommercialBankInterestRateonCreditCardPlans</th>\n",
       "      <th>Finance Rate on Personal Loans at Commercial Banks, 24 Month Loan</th>\n",
       "      <th>Earnings or wages  in dollars per hour</th>\n",
       "      <th>AdvertisingExpenses (in Thousand Dollars)</th>\n",
       "      <th>Cotton Monthly Price - US cents per Pound(lbs)</th>\n",
       "      <th>Change(in%)</th>\n",
       "      <th>Average upland planted(million acres)</th>\n",
       "      <th>Average upland harvested(million acres)</th>\n",
       "      <th>yieldperharvested acre</th>\n",
       "      <th>Production (in  480-lb netweright in million bales)</th>\n",
       "      <th>Mill use  (in  480-lb netweright in million bales)</th>\n",
       "      <th>Exports</th>\n",
       "    </tr>\n",
       "  </thead>\n",
       "  <tbody>\n",
       "    <tr>\n",
       "      <th>0</th>\n",
       "      <td>2009 - Jan</td>\n",
       "      <td>14421.752895</td>\n",
       "      <td>14407.053343</td>\n",
       "      <td>233.402</td>\n",
       "      <td>Democrats</td>\n",
       "      <td>7.8</td>\n",
       "      <td>12.03</td>\n",
       "      <td>11.44</td>\n",
       "      <td>22.05</td>\n",
       "      <td>137</td>\n",
       "      <td>57.70</td>\n",
       "      <td>4.02</td>\n",
       "      <td>9.296</td>\n",
       "      <td>7.559</td>\n",
       "      <td>799</td>\n",
       "      <td>12.589</td>\n",
       "      <td>4.17</td>\n",
       "      <td>11.550</td>\n",
       "    </tr>\n",
       "    <tr>\n",
       "      <th>1</th>\n",
       "      <td>2009 - Feb</td>\n",
       "      <td>14389.200466</td>\n",
       "      <td>14366.176571</td>\n",
       "      <td>234.663</td>\n",
       "      <td>Democrats</td>\n",
       "      <td>8.3</td>\n",
       "      <td>12.97</td>\n",
       "      <td>11.05</td>\n",
       "      <td>22.22</td>\n",
       "      <td>200</td>\n",
       "      <td>55.21</td>\n",
       "      <td>-4.32</td>\n",
       "      <td>9.296</td>\n",
       "      <td>7.559</td>\n",
       "      <td>799</td>\n",
       "      <td>12.589</td>\n",
       "      <td>3.87</td>\n",
       "      <td>11.100</td>\n",
       "    </tr>\n",
       "    <tr>\n",
       "      <th>2</th>\n",
       "      <td>2009 - Mar</td>\n",
       "      <td>14340.701639</td>\n",
       "      <td>14351.786822</td>\n",
       "      <td>235.067</td>\n",
       "      <td>Democrats</td>\n",
       "      <td>8.7</td>\n",
       "      <td>12.97</td>\n",
       "      <td>11.05</td>\n",
       "      <td>22.22</td>\n",
       "      <td>?</td>\n",
       "      <td>51.50</td>\n",
       "      <td>-6.72</td>\n",
       "      <td>9.296</td>\n",
       "      <td>7.559</td>\n",
       "      <td>799</td>\n",
       "      <td>12.589</td>\n",
       "      <td>3.72</td>\n",
       "      <td>11.650</td>\n",
       "    </tr>\n",
       "    <tr>\n",
       "      <th>3</th>\n",
       "      <td>2009 - Apr</td>\n",
       "      <td>14326.815525</td>\n",
       "      <td>14351.601731</td>\n",
       "      <td>235.582</td>\n",
       "      <td>Democrats</td>\n",
       "      <td>9.0</td>\n",
       "      <td>12.97</td>\n",
       "      <td>11.05</td>\n",
       "      <td>22.13</td>\n",
       "      <td>214</td>\n",
       "      <td>56.78</td>\n",
       "      <td>10.25</td>\n",
       "      <td>9.296</td>\n",
       "      <td>7.559</td>\n",
       "      <td>787</td>\n",
       "      <td>12.400</td>\n",
       "      <td>3.62</td>\n",
       "      <td>12.225</td>\n",
       "    </tr>\n",
       "    <tr>\n",
       "      <th>4</th>\n",
       "      <td>2009 - May</td>\n",
       "      <td>14345.904809</td>\n",
       "      <td>14368.123959</td>\n",
       "      <td>235.975</td>\n",
       "      <td>Democrats</td>\n",
       "      <td>9.4</td>\n",
       "      <td>13.32</td>\n",
       "      <td>11.25</td>\n",
       "      <td>22.04</td>\n",
       "      <td>?</td>\n",
       "      <td>61.95</td>\n",
       "      <td>9.11</td>\n",
       "      <td>9.297</td>\n",
       "      <td>7.400</td>\n",
       "      <td>803</td>\n",
       "      <td>12.384</td>\n",
       "      <td>3.52</td>\n",
       "      <td>12.300</td>\n",
       "    </tr>\n",
       "  </tbody>\n",
       "</table>\n",
       "</div>"
      ],
      "text/plain": [
       "   Year-Month  Monthly Nominal GDP Index (inMillion$)  \\\n",
       "0  2009 - Jan                            14421.752895   \n",
       "1  2009 - Feb                            14389.200466   \n",
       "2  2009 - Mar                            14340.701639   \n",
       "3  2009 - Apr                            14326.815525   \n",
       "4  2009 - May                            14345.904809   \n",
       "\n",
       "   Monthly Real GDP Index (inMillion$)      CPI PartyInPower  \\\n",
       "0                         14407.053343  233.402    Democrats   \n",
       "1                         14366.176571  234.663    Democrats   \n",
       "2                         14351.786822  235.067    Democrats   \n",
       "3                         14351.601731  235.582    Democrats   \n",
       "4                         14368.123959  235.975    Democrats   \n",
       "\n",
       "   unemployment rate  CommercialBankInterestRateonCreditCardPlans  \\\n",
       "0                7.8                                        12.03   \n",
       "1                8.3                                        12.97   \n",
       "2                8.7                                        12.97   \n",
       "3                9.0                                        12.97   \n",
       "4                9.4                                        13.32   \n",
       "\n",
       "   Finance Rate on Personal Loans at Commercial Banks, 24 Month Loan  \\\n",
       "0                                              11.44                   \n",
       "1                                              11.05                   \n",
       "2                                              11.05                   \n",
       "3                                              11.05                   \n",
       "4                                              11.25                   \n",
       "\n",
       "   Earnings or wages  in dollars per hour  \\\n",
       "0                                   22.05   \n",
       "1                                   22.22   \n",
       "2                                   22.22   \n",
       "3                                   22.13   \n",
       "4                                   22.04   \n",
       "\n",
       "  AdvertisingExpenses (in Thousand Dollars)  \\\n",
       "0                                       137   \n",
       "1                                       200   \n",
       "2                                         ?   \n",
       "3                                       214   \n",
       "4                                         ?   \n",
       "\n",
       "   Cotton Monthly Price - US cents per Pound(lbs)  Change(in%)  \\\n",
       "0                                           57.70         4.02   \n",
       "1                                           55.21        -4.32   \n",
       "2                                           51.50        -6.72   \n",
       "3                                           56.78        10.25   \n",
       "4                                           61.95         9.11   \n",
       "\n",
       "   Average upland planted(million acres)  \\\n",
       "0                                  9.296   \n",
       "1                                  9.296   \n",
       "2                                  9.296   \n",
       "3                                  9.296   \n",
       "4                                  9.297   \n",
       "\n",
       "   Average upland harvested(million acres)  yieldperharvested acre  \\\n",
       "0                                    7.559                     799   \n",
       "1                                    7.559                     799   \n",
       "2                                    7.559                     799   \n",
       "3                                    7.559                     787   \n",
       "4                                    7.400                     803   \n",
       "\n",
       "   Production (in  480-lb netweright in million bales)  \\\n",
       "0                                             12.589     \n",
       "1                                             12.589     \n",
       "2                                             12.589     \n",
       "3                                             12.400     \n",
       "4                                             12.384     \n",
       "\n",
       "   Mill use  (in  480-lb netweright in million bales)  Exports  \n",
       "0                                               4.17    11.550  \n",
       "1                                               3.87    11.100  \n",
       "2                                               3.72    11.650  \n",
       "3                                               3.62    12.225  \n",
       "4                                               3.52    12.300  "
      ]
     },
     "execution_count": 188,
     "metadata": {},
     "output_type": "execute_result"
    }
   ],
   "source": [
    "macro.head()"
   ]
  },
  {
   "cell_type": "code",
   "execution_count": 192,
   "metadata": {},
   "outputs": [
    {
     "name": "stdout",
     "output_type": "stream",
     "text": [
      "Year-Month ['2009 - Jan' '2009 - Feb' '2009 - Mar' '2009 - Apr' '2009 - May'\n",
      " '2009 - Jun' '2009 - Jul' '2009 - Aug' '2009 - Sep' '2009 - Oct'\n",
      " '2009 - Nov' '2009 - Dec' '2010 - Jan' '2010 - Feb' '2010 - Mar'\n",
      " '2010 - Apr' '2010 - May' '2010 - Jun' '2010 - Jul' '2010 - Aug'\n",
      " '2010 - Sep' '2010 - Oct' '2010 - Nov' '2010 - Dec' '2011 - Jan'\n",
      " '2011 - Feb' '2011 - Mar' '2011 - Apr' '2011 - May' '2011 - Jun'\n",
      " '2011 - Jul' '2011 - Aug' '2011 - Sep' '2011 - Oct' '2011 - Nov'\n",
      " '2011 - Dec' '2012 - Jan' '2012 - Feb' '2012 - Mar' '2012 - Apr'\n",
      " '2012 - May' '2012 - Jun' '2012 - Jul' '2012 - Aug' '2012 - Sep'\n",
      " '2012 - Oct' '2012 - Nov' '2012 - Dec' '2013 - Jan' '2013 - Feb'\n",
      " '2013 - Mar' '2013 - Apr' '2013 - May' '2013 - Jun' '2013 - Jul'\n",
      " '2013 - Aug' '2013 - Sep' '2013 - Oct' '2013 - Nov' '2013 - Dec'\n",
      " '2014 - Jan' '2014 - Feb' '2014 - Mar' '2014 - Apr' '2014 - May'\n",
      " '2014 - Jun' '2014 - Jul' '2014 - Aug' '2014 - Sep' '2014 - Oct'\n",
      " '2014 - Nov' '2014 - Dec' '2015 - Jan' '2015 - Feb' '2015 - Mar'\n",
      " '2015 - Apr' '2015 - May' '2015 - Jun' '2015 - Jul' '2015 - Aug'\n",
      " '2015 - Sep' '2015 - Oct' '2015 - Nov' '2015 - Dec' '2016 - Jan'\n",
      " '2016 - Feb' '2016 - Mar' '2016 - Apr' '2016 - May' '2016 - Jun'\n",
      " '2016 - Jul' '2016 - Aug' '2016 - Sep' '2016 - Oct' '2016 - Nov'\n",
      " '2016 - Dec']\n",
      "Monthly Nominal GDP Index (inMillion$) [14421.75289545 14389.20046603 14340.70163858 14326.81552535\n",
      " 14345.90480886 14348.53066581 14317.37292215 14424.28490124\n",
      " 14410.77717654 14596.60544727 14590.43225154 14512.49530117\n",
      " 14613.99148065 14652.88027156 14776.31724778 14844.53119319\n",
      " 14875.69843563 14945.57037111 15019.23526269 15036.27762697\n",
      " 15117.46711039 15219.05903607 15185.62894712 15285.93601679\n",
      " 15149.13616338 15161.57833058 15404.39850607 15488.00486366\n",
      " 15472.39128913 15422.38184725 15547.85445175 15649.03813558\n",
      " 15564.4824127  15840.38540642 15775.0060677  15740.54452592\n",
      " 15864.50233861 16073.57538983 15983.56527164 16091.22810005\n",
      " 16121.95896343 16152.36593651 16239.42010321 16161.11817178\n",
      " 16283.27872498 16208.31475726 16272.70622675 16411.02601591\n",
      " 16503.91568442 16433.88271947 16488.52159617 16521.13392709\n",
      " 16461.87323257 16641.16284028 16685.742246   16776.99256506\n",
      " 16785.31218902 16884.85481584 17053.73810745 17061.07107666\n",
      " 16955.60862604 17028.58634802 17109.77702582 17208.8646835\n",
      " 17345.33402795 17408.56428866 17551.78106545 17684.63534872\n",
      " 17630.35458582 17709.43696653 17765.33756977 17733.02446359\n",
      " 17792.11695321 17931.04618966 17900.9818572  18015.74811996\n",
      " 18075.28141234 18188.64246763 18163.85799197 18201.39288798\n",
      " 18317.81611998 18278.30427034 18266.24460509 18317.12912451\n",
      " 18286.63852312 18241.71381239 18447.20866453 18533.93674863\n",
      " 18498.12116417 18582.05908714 18605.48040684 18741.59994678\n",
      " 18840.30964642 18740.78002345 18960.46156831 19015.39340818]\n",
      "Monthly Real GDP Index (inMillion$) [14407.05334302 14366.1765714  14351.78682174 14351.60173054\n",
      " 14368.1239592  14346.82010557 14345.67609735 14435.81250855\n",
      " 14425.97275157 14595.39309388 14559.41017325 14471.04084392\n",
      " 14551.02483793 14581.37569423 14682.0107425  14724.20015283\n",
      " 14741.36734698 14772.31805126 14833.74927714 14824.16576964\n",
      " 14878.54698311 14945.42708784 14896.67481339 14975.04020685\n",
      " 14838.15558028 14801.73418134 15004.11546998 15050.661172\n",
      " 14990.96381558 14927.33273134 15011.76141067 15085.22925531\n",
      " 14966.8228661  15249.76348423 15172.6925599  15148.82219533\n",
      " 15226.20467848 15385.8470176  15261.34058198 15340.65357981\n",
      " 15354.65058264 15392.24927518 15433.36986745 15317.42419331\n",
      " 15391.8773101  15292.34986023 15362.09785541 15498.6520671\n",
      " 15554.42687798 15435.67510313 15485.7382618  15529.83569594\n",
      " 15450.31863521 15584.74752785 15606.00806818 15673.43997051\n",
      " 15644.83226841 15729.95936646 15841.75876195 15810.41018209\n",
      " 15705.97266658 15762.59891999 15804.51906797 15870.17805342\n",
      " 15946.74133585 15990.97741827 16089.49918723 16196.42013178\n",
      " 16133.04942679 16196.81447417 16243.05473439 16221.18012522\n",
      " 16319.78631403 16400.92673708 16329.52379192 16427.13667137\n",
      " 16434.48237646 16521.30188568 16475.9998545  16505.53761507\n",
      " 16601.48987869 16540.85972316 16524.19949427 16578.00454441\n",
      " 16546.15312348 16503.50035842 16665.28201794 16693.62932615\n",
      " 16627.18369744 16669.87678067 16684.74318407 16797.20661031\n",
      " 16852.56274525 16725.46009834 16910.89633033 16918.0506237 ]\n",
      "CPI [233.402 234.663 235.067 235.582 235.975 237.172 237.6   238.282 238.568\n",
      " 238.38  238.777 238.427 238.97  238.862 240.101 240.529 241.075 240.817\n",
      " 241.147 241.569 241.485 241.981 241.96  241.874 242.639 243.832 245.617\n",
      " 246.489 248.073 248.505 249.164 250.058 250.559 250.051 249.317 248.307\n",
      " 249.322 250.285 251.887 252.349 252.652 252.406 252.016 253.472 254.554\n",
      " 254.277 254.285 253.555 254.807 256.234 256.589 255.967 256.27  256.911\n",
      " 257.326 257.659 258.504 257.069 257.377 257.284 259.596 259.019 259.971\n",
      " 259.985 261.225 261.35  261.498 261.075 261.074 260.5   259.382 258.08\n",
      " 258.376 259.24  259.647 259.959 261.066 261.512 261.199 261.347 261.887\n",
      " 261.515 261.009 259.941 260.342 260.875 261.508 262.619 263.312 263.877\n",
      " 263.722 264.16  264.602 264.738 265.203 265.421]\n",
      "PartyInPower ['Democrats']\n",
      "unemployment rate [ 7.8  8.3  8.7  9.   9.4  9.5  9.6  9.8 10.   9.9  9.3  9.1  8.8  8.6\n",
      "  8.5  8.2  8.1  7.7  7.9  8.   7.5  7.6  7.3  7.2  6.9  6.7  6.6  6.2\n",
      "  6.3  6.1  5.9  5.7  5.8  5.6  5.5  5.4  5.3  5.2  5.1  5.   4.9  4.7\n",
      "  4.8  4.6]\n",
      "CommercialBankInterestRateonCreditCardPlans [12.03 12.97 13.32 13.71 13.6  14.26 13.84 13.59 13.44 12.89 12.28 12.36\n",
      " 12.34 12.06 11.95 11.88 11.94 11.85 11.83 11.82 11.99 11.98 12.04 12.1\n",
      " 12.22 12.31 12.16 12.51 12.41]\n",
      "Finance Rate on Personal Loans at Commercial Banks, 24 Month Loan [11.44 11.05 11.25 10.89 11.2  10.83 11.   10.71 10.94 10.98 11.37 10.8\n",
      " 10.36 10.37 10.64 10.12 10.34 10.13 10.22 10.09  9.57 10.73 10.47  9.85\n",
      "  9.69  9.8   9.66 10.03  9.65  9.64  9.45]\n",
      "Earnings or wages  in dollars per hour [22.05 22.22 22.13 22.04 21.96 22.   22.16 22.2  22.27 22.44 22.38 22.51\n",
      " 22.57 22.48 22.53 22.6  22.34 22.41 22.55 22.7  22.69 22.76 23.16 22.99\n",
      " 22.9  22.96 23.06 22.81 22.94 22.85 23.05 23.3  23.15 23.22 23.56 23.4\n",
      " 23.39 23.61 23.32 23.27 23.48 23.26 23.67 23.52 23.58 23.85 23.88 23.9\n",
      " 23.84 23.92 23.8  23.81 24.16 24.04 24.11 24.3  24.35 24.58 24.5  24.4\n",
      " 24.42 24.31 24.32 24.52 24.78 24.59 24.88 25.05 25.04 24.94 24.77 24.83\n",
      " 25.14 25.38 25.21 25.5  25.49 25.6  25.68 25.42 25.53 25.52 25.74 26.04\n",
      " 25.87 25.9 ]\n",
      "AdvertisingExpenses (in Thousand Dollars) [137. 200. 185. 214. 248. 116. 165. 150. 221. 208. 201. 183.]\n",
      "Cotton Monthly Price - US cents per Pound(lbs) [ 57.7   55.21  51.5   56.78  61.95  61.39  64.8   64.26  64.07  66.82\n",
      "  71.78  76.78  77.4   80.04  85.79  88.09  90.07  91.68  84.15  90.35\n",
      " 104.73 126.55 155.47 168.22 178.93 213.18 229.67 216.62 165.52 160.65\n",
      " 149.25 114.1  116.65 110.61 104.68  95.45 101.11 100.75  99.5  100.1\n",
      "  88.53  82.18  83.97  84.4   81.95  80.87  83.37  85.51  89.71  94.45\n",
      "  92.54  92.62  93.08  92.71  90.09  89.35  84.65  87.49  90.96  94.05\n",
      "  96.95  94.2   90.9   83.84  74.    73.38  70.34  67.53  68.3   67.35\n",
      "  69.84  69.35  71.7   72.86  72.35  71.82  68.74  69.03  69.22  70.39\n",
      "  68.75  66.57  65.46  69.28  70.28  74.1   81.06  80.26  77.86  78.52\n",
      "  78.92  79.5 ]\n",
      "Change(in%) [  4.02  -4.32  -6.72  10.25   9.11  -0.9    5.55  -0.83  -0.3    4.29\n",
      "   7.42   6.97   0.81   3.41   7.18   2.68   2.25   1.79  -8.21   7.37\n",
      "  15.92  20.83  22.85   8.2    6.37  19.14   7.74  -5.68 -23.59  -2.94\n",
      "  -7.1  -23.55   2.23  -5.18  -5.36  -8.82   5.93  -0.36  -1.24   0.6\n",
      " -11.56  -7.17   2.18   0.51  -2.61  -1.32   3.09   2.57   4.91   5.28\n",
      "  -2.02   0.09   0.5   -0.49   0.1   -2.83  -0.82  -5.26   3.35   3.97\n",
      "   3.4    3.08  -2.84  -1.58  -1.95  -7.77 -11.74  -0.84  -4.14  -3.99\n",
      "   1.14  -1.39   3.7   -0.7    3.39   1.62   0.    -0.73  -4.29   0.42\n",
      "   0.28   1.69  -2.33  -3.17  -1.67   5.84   1.44   5.44   9.39  -0.99\n",
      "  -2.99   0.85   0.73]\n",
      "Average upland planted(million acres) [ 9.296  9.297  8.668  8.905  8.989  9.008 10.315 10.7   10.829 10.769\n",
      " 12.313 13.436 14.431 14.426 14.428 12.885 12.4   12.121 12.077 12.076\n",
      "  9.82  10.025 10.015 10.136 10.206 10.943 11.191 10.818 10.845  9.399\n",
      "  8.85   8.75   8.398  8.422  9.347  9.824  9.95 ]\n",
      "Average upland harvested(million acres) [ 7.559  7.4    7.76   7.753  7.619  7.582  7.586  7.552  7.391  9.642\n",
      " 10.193 10.424 10.566 10.505 10.497  9.95   9.314  9.379  9.562  9.444\n",
      "  9.156 10.234 10.167 10.577 10.206  9.19   9.135  7.896  7.579  7.519\n",
      "  7.465  7.345  8.594 10.065  9.692  9.518  9.157  8.451  8.353  7.749\n",
      "  8.012  7.995  7.922  7.903  7.92   8.588  9.104  9.34   9.464]\n",
      "yieldperharvested acre [799 787 803 796 809 827 767 774 763 747 766 806 836 831 833 835 814 807\n",
      " 804 805 785 794 797 781 757 754 772 764 773 771 782 790 849 862 869 815\n",
      " 777 788 802 811 808 776 783 760 826 784 770 755 758 756 792 791 810]\n",
      "Production (in  480-lb netweright in million bales) [12.589 12.4   12.384 12.876 12.863 12.84  13.071 12.631 12.129 12.225\n",
      " 12.011 11.751 11.788 16.2   17.75  18.036 18.343 18.375 17.92  17.77\n",
      " 17.817 17.597 17.6   16.323 15.225 15.817 15.819 15.871 15.563 15.09\n",
      " 14.828 14.722 16.28  16.365 16.988 16.452 16.63  16.79  16.6   16.25\n",
      " 16.51  16.535 12.92  12.872 12.473 12.273 12.479 12.443 12.551 12.234\n",
      " 12.275 14.512 15.955 16.946 15.96  15.677 15.345 15.496 15.735 15.753\n",
      " 14.03  14.035 12.65  12.977 12.887 12.83  12.58  12.508 12.44  12.455\n",
      " 12.165 15.215 15.314 15.58  15.472 15.6   15.962]\n",
      "Mill use  (in  480-lb netweright in million bales) [4.17  3.87  3.72  3.62  3.52  3.47  3.37  3.375 3.275 3.57  3.42  3.565\n",
      " 3.665 3.76  3.77  3.775 3.575 3.475 3.373 3.38  3.48  3.58  3.675 3.625\n",
      " 3.725]\n",
      "Exports [11.55  11.1   11.65  12.225 12.3   10.3    9.7   10.     9.95  10.425\n",
      " 10.4   11.4   11.375 11.365 11.34  13.05  13.8   14.525 15.025 15.275\n",
      " 15.28  15.02  12.4   11.325 10.825 10.625 10.65  10.35  10.75  11.075\n",
      " 10.875 11.475 11.75  12.    12.45  13.38   9.65   9.75   9.975  9.675\n",
      "  9.22   9.72  10.15   9.45  10.2   10.25   9.475  9.5    9.525  9.05\n",
      "  9.025  8.5   10.95  11.425 11.6  ]\n"
     ]
    }
   ],
   "source": [
    "for i in macro.columns:\n",
    "    print(i,macro[i].unique())"
   ]
  },
  {
   "cell_type": "code",
   "execution_count": 187,
   "metadata": {},
   "outputs": [
    {
     "name": "stdout",
     "output_type": "stream",
     "text": [
      "<class 'pandas.core.frame.DataFrame'>\n",
      "RangeIndex: 96 entries, 0 to 95\n",
      "Data columns (total 18 columns):\n",
      "Year-Month                                                           96 non-null object\n",
      "Monthly Nominal GDP Index (inMillion$)                               96 non-null float64\n",
      "Monthly Real GDP Index (inMillion$)                                  96 non-null float64\n",
      "CPI                                                                  96 non-null float64\n",
      "PartyInPower                                                         96 non-null object\n",
      "unemployment rate                                                    96 non-null float64\n",
      "CommercialBankInterestRateonCreditCardPlans                          96 non-null float64\n",
      "Finance Rate on Personal Loans at Commercial Banks, 24 Month Loan    96 non-null float64\n",
      "Earnings or wages  in dollars per hour                               96 non-null float64\n",
      "AdvertisingExpenses (in Thousand Dollars)                            96 non-null object\n",
      "Cotton Monthly Price - US cents per Pound(lbs)                       96 non-null float64\n",
      "Change(in%)                                                          96 non-null float64\n",
      "Average upland planted(million acres)                                96 non-null float64\n",
      "Average upland harvested(million acres)                              96 non-null float64\n",
      "yieldperharvested acre                                               96 non-null int64\n",
      "Production (in  480-lb netweright in million bales)                  96 non-null float64\n",
      "Mill use  (in  480-lb netweright in million bales)                   96 non-null float64\n",
      "Exports                                                              96 non-null float64\n",
      "dtypes: float64(14), int64(1), object(3)\n",
      "memory usage: 13.6+ KB\n"
     ]
    }
   ],
   "source": [
    "macro.info()"
   ]
  },
  {
   "cell_type": "code",
   "execution_count": 189,
   "metadata": {},
   "outputs": [
    {
     "data": {
      "text/plain": [
       "Year-Month                                                           0\n",
       "Monthly Nominal GDP Index (inMillion$)                               0\n",
       "Monthly Real GDP Index (inMillion$)                                  0\n",
       "CPI                                                                  0\n",
       "PartyInPower                                                         0\n",
       "unemployment rate                                                    0\n",
       "CommercialBankInterestRateonCreditCardPlans                          0\n",
       "Finance Rate on Personal Loans at Commercial Banks, 24 Month Loan    0\n",
       "Earnings or wages  in dollars per hour                               0\n",
       "AdvertisingExpenses (in Thousand Dollars)                            0\n",
       "Cotton Monthly Price - US cents per Pound(lbs)                       0\n",
       "Change(in%)                                                          0\n",
       "Average upland planted(million acres)                                0\n",
       "Average upland harvested(million acres)                              0\n",
       "yieldperharvested acre                                               0\n",
       "Production (in  480-lb netweright in million bales)                  0\n",
       "Mill use  (in  480-lb netweright in million bales)                   0\n",
       "Exports                                                              0\n",
       "dtype: int64"
      ]
     },
     "execution_count": 189,
     "metadata": {},
     "output_type": "execute_result"
    }
   ],
   "source": [
    "macro.isnull().sum()"
   ]
  },
  {
   "cell_type": "code",
   "execution_count": 191,
   "metadata": {},
   "outputs": [],
   "source": [
    "macro['AdvertisingExpenses (in Thousand Dollars)'].replace(to_replace='?',value=np.nan,inplace=True)\n",
    "macro['AdvertisingExpenses (in Thousand Dollars)'].fillna('185',inplace=True)\n",
    "macro['AdvertisingExpenses (in Thousand Dollars)']=pd.to_numeric(macro['AdvertisingExpenses (in Thousand Dollars)'])"
   ]
  },
  {
   "cell_type": "code",
   "execution_count": 233,
   "metadata": {},
   "outputs": [],
   "source": [
    "macro.drop('Year-Month',axis=1,inplace=True)"
   ]
  },
  {
   "cell_type": "code",
   "execution_count": 288,
   "metadata": {},
   "outputs": [],
   "source": [
    "macro['date']=pd.DataFrame(macro.date.str.split('-',expand=True)[0]+'-'+macro.date.str.split('-',expand=True)[1])"
   ]
  },
  {
   "cell_type": "code",
   "execution_count": 296,
   "metadata": {},
   "outputs": [],
   "source": [
    "macro['l1']=macro.date.str.split('-',expand=True)[0]"
   ]
  },
  {
   "cell_type": "code",
   "execution_count": 298,
   "metadata": {},
   "outputs": [],
   "source": [
    "macro['l2']=macro.date.str.split('-',expand=True)[1]"
   ]
  },
  {
   "cell_type": "code",
   "execution_count": 308,
   "metadata": {},
   "outputs": [],
   "source": [
    "macro['date']=macro.date.str.replace(' ','')"
   ]
  },
  {
   "cell_type": "markdown",
   "metadata": {},
   "source": [
    "# Train data"
   ]
  },
  {
   "cell_type": "code",
   "execution_count": 205,
   "metadata": {},
   "outputs": [
    {
     "data": {
      "text/html": [
       "<div>\n",
       "<style scoped>\n",
       "    .dataframe tbody tr th:only-of-type {\n",
       "        vertical-align: middle;\n",
       "    }\n",
       "\n",
       "    .dataframe tbody tr th {\n",
       "        vertical-align: top;\n",
       "    }\n",
       "\n",
       "    .dataframe thead th {\n",
       "        text-align: right;\n",
       "    }\n",
       "</style>\n",
       "<table border=\"1\" class=\"dataframe\">\n",
       "  <thead>\n",
       "    <tr style=\"text-align: right;\">\n",
       "      <th></th>\n",
       "      <th>ProductCategory</th>\n",
       "      <th>Sales(In ThousandDollars)</th>\n",
       "      <th>date</th>\n",
       "    </tr>\n",
       "  </thead>\n",
       "  <tbody>\n",
       "    <tr>\n",
       "      <th>0</th>\n",
       "      <td>WomenClothing</td>\n",
       "      <td>1755.0</td>\n",
       "      <td>2009-Jan</td>\n",
       "    </tr>\n",
       "    <tr>\n",
       "      <th>1</th>\n",
       "      <td>MenClothing</td>\n",
       "      <td>524.0</td>\n",
       "      <td>2009-Jan</td>\n",
       "    </tr>\n",
       "    <tr>\n",
       "      <th>2</th>\n",
       "      <td>OtherClothing</td>\n",
       "      <td>936.0</td>\n",
       "      <td>2009-Jan</td>\n",
       "    </tr>\n",
       "    <tr>\n",
       "      <th>3</th>\n",
       "      <td>WomenClothing</td>\n",
       "      <td>1729.0</td>\n",
       "      <td>2009-Feb</td>\n",
       "    </tr>\n",
       "    <tr>\n",
       "      <th>4</th>\n",
       "      <td>MenClothing</td>\n",
       "      <td>496.0</td>\n",
       "      <td>2009-Feb</td>\n",
       "    </tr>\n",
       "  </tbody>\n",
       "</table>\n",
       "</div>"
      ],
      "text/plain": [
       "  ProductCategory  Sales(In ThousandDollars)      date\n",
       "0   WomenClothing                     1755.0  2009-Jan\n",
       "1     MenClothing                      524.0  2009-Jan\n",
       "2   OtherClothing                      936.0  2009-Jan\n",
       "3   WomenClothing                     1729.0  2009-Feb\n",
       "4     MenClothing                      496.0  2009-Feb"
      ]
     },
     "execution_count": 205,
     "metadata": {},
     "output_type": "execute_result"
    }
   ],
   "source": [
    "train.head()"
   ]
  },
  {
   "cell_type": "code",
   "execution_count": 196,
   "metadata": {},
   "outputs": [],
   "source": [
    "import calendar"
   ]
  },
  {
   "cell_type": "code",
   "execution_count": 200,
   "metadata": {},
   "outputs": [],
   "source": [
    "train['Year']=train['Year'].astype(str)"
   ]
  },
  {
   "cell_type": "code",
   "execution_count": 198,
   "metadata": {},
   "outputs": [],
   "source": [
    "train['Month'] = train['Month'].apply(lambda x: calendar.month_abbr[x])"
   ]
  },
  {
   "cell_type": "code",
   "execution_count": 202,
   "metadata": {},
   "outputs": [],
   "source": [
    "train['date']=train['Year']+'-'+train['Month']"
   ]
  },
  {
   "cell_type": "code",
   "execution_count": 204,
   "metadata": {},
   "outputs": [],
   "source": [
    "train.drop(['Year','Month'],axis=True,inplace=True)"
   ]
  },
  {
   "cell_type": "code",
   "execution_count": 208,
   "metadata": {},
   "outputs": [],
   "source": [
    "train['Sales(In ThousandDollars)'].fillna(1702,inplace=True)"
   ]
  },
  {
   "cell_type": "code",
   "execution_count": 210,
   "metadata": {},
   "outputs": [
    {
     "data": {
      "text/html": [
       "<div>\n",
       "<style scoped>\n",
       "    .dataframe tbody tr th:only-of-type {\n",
       "        vertical-align: middle;\n",
       "    }\n",
       "\n",
       "    .dataframe tbody tr th {\n",
       "        vertical-align: top;\n",
       "    }\n",
       "\n",
       "    .dataframe thead th {\n",
       "        text-align: right;\n",
       "    }\n",
       "</style>\n",
       "<table border=\"1\" class=\"dataframe\">\n",
       "  <thead>\n",
       "    <tr style=\"text-align: right;\">\n",
       "      <th></th>\n",
       "      <th>ProductCategory</th>\n",
       "      <th>Sales(In ThousandDollars)</th>\n",
       "      <th>date</th>\n",
       "    </tr>\n",
       "  </thead>\n",
       "  <tbody>\n",
       "    <tr>\n",
       "      <th>0</th>\n",
       "      <td>WomenClothing</td>\n",
       "      <td>1755.0</td>\n",
       "      <td>2009-Jan</td>\n",
       "    </tr>\n",
       "    <tr>\n",
       "      <th>1</th>\n",
       "      <td>MenClothing</td>\n",
       "      <td>524.0</td>\n",
       "      <td>2009-Jan</td>\n",
       "    </tr>\n",
       "    <tr>\n",
       "      <th>2</th>\n",
       "      <td>OtherClothing</td>\n",
       "      <td>936.0</td>\n",
       "      <td>2009-Jan</td>\n",
       "    </tr>\n",
       "    <tr>\n",
       "      <th>3</th>\n",
       "      <td>WomenClothing</td>\n",
       "      <td>1729.0</td>\n",
       "      <td>2009-Feb</td>\n",
       "    </tr>\n",
       "    <tr>\n",
       "      <th>4</th>\n",
       "      <td>MenClothing</td>\n",
       "      <td>496.0</td>\n",
       "      <td>2009-Feb</td>\n",
       "    </tr>\n",
       "  </tbody>\n",
       "</table>\n",
       "</div>"
      ],
      "text/plain": [
       "  ProductCategory  Sales(In ThousandDollars)      date\n",
       "0   WomenClothing                     1755.0  2009-Jan\n",
       "1     MenClothing                      524.0  2009-Jan\n",
       "2   OtherClothing                      936.0  2009-Jan\n",
       "3   WomenClothing                     1729.0  2009-Feb\n",
       "4     MenClothing                      496.0  2009-Feb"
      ]
     },
     "execution_count": 210,
     "metadata": {},
     "output_type": "execute_result"
    }
   ],
   "source": [
    "train.head()"
   ]
  },
  {
   "cell_type": "markdown",
   "metadata": {},
   "source": [
    " # Test data"
   ]
  },
  {
   "cell_type": "code",
   "execution_count": 219,
   "metadata": {},
   "outputs": [
    {
     "data": {
      "text/html": [
       "<div>\n",
       "<style scoped>\n",
       "    .dataframe tbody tr th:only-of-type {\n",
       "        vertical-align: middle;\n",
       "    }\n",
       "\n",
       "    .dataframe tbody tr th {\n",
       "        vertical-align: top;\n",
       "    }\n",
       "\n",
       "    .dataframe thead th {\n",
       "        text-align: right;\n",
       "    }\n",
       "</style>\n",
       "<table border=\"1\" class=\"dataframe\">\n",
       "  <thead>\n",
       "    <tr style=\"text-align: right;\">\n",
       "      <th></th>\n",
       "      <th>ProductCategory</th>\n",
       "      <th>date</th>\n",
       "    </tr>\n",
       "  </thead>\n",
       "  <tbody>\n",
       "    <tr>\n",
       "      <th>0</th>\n",
       "      <td>WomenClothing</td>\n",
       "      <td>2015-Jan</td>\n",
       "    </tr>\n",
       "    <tr>\n",
       "      <th>1</th>\n",
       "      <td>MenClothing</td>\n",
       "      <td>2015-Jan</td>\n",
       "    </tr>\n",
       "    <tr>\n",
       "      <th>2</th>\n",
       "      <td>OtherClothing</td>\n",
       "      <td>2015-Jan</td>\n",
       "    </tr>\n",
       "    <tr>\n",
       "      <th>3</th>\n",
       "      <td>WomenClothing</td>\n",
       "      <td>2015-Feb</td>\n",
       "    </tr>\n",
       "    <tr>\n",
       "      <th>4</th>\n",
       "      <td>MenClothing</td>\n",
       "      <td>2015-Feb</td>\n",
       "    </tr>\n",
       "  </tbody>\n",
       "</table>\n",
       "</div>"
      ],
      "text/plain": [
       "  ProductCategory      date\n",
       "0   WomenClothing  2015-Jan\n",
       "1     MenClothing  2015-Jan\n",
       "2   OtherClothing  2015-Jan\n",
       "3   WomenClothing  2015-Feb\n",
       "4     MenClothing  2015-Feb"
      ]
     },
     "execution_count": 219,
     "metadata": {},
     "output_type": "execute_result"
    }
   ],
   "source": [
    "test.head()"
   ]
  },
  {
   "cell_type": "code",
   "execution_count": 214,
   "metadata": {},
   "outputs": [],
   "source": [
    "test['Month']=test['Month'].apply(lambda x:calendar.month_abbr[x])"
   ]
  },
  {
   "cell_type": "code",
   "execution_count": 216,
   "metadata": {},
   "outputs": [],
   "source": [
    "test['Year']=test['Year'].astype(str)"
   ]
  },
  {
   "cell_type": "code",
   "execution_count": 217,
   "metadata": {},
   "outputs": [],
   "source": [
    "test['date']=test['Year']+'-'+test['Month']"
   ]
  },
  {
   "cell_type": "code",
   "execution_count": 218,
   "metadata": {
    "colab": {},
    "colab_type": "code",
    "id": "E5Cj3sJ95-X5"
   },
   "outputs": [],
   "source": [
    "test.drop(['Year','Month','Sales(In ThousandDollars)'],axis=1,inplace=True)"
   ]
  },
  {
   "cell_type": "markdown",
   "metadata": {},
   "source": [
    "# Merging all data sets to create main  data to be fitted in the model"
   ]
  },
  {
   "cell_type": "code",
   "execution_count": 312,
   "metadata": {},
   "outputs": [],
   "source": [
    "# merging events data with test\n",
    "test_=pd.merge(test,events_,how='left',on='date')"
   ]
  },
  {
   "cell_type": "code",
   "execution_count": 314,
   "metadata": {},
   "outputs": [],
   "source": [
    "# merging train with events dataset\n",
    "train_=pd.merge(train,events_,how='left',on='date')"
   ]
  },
  {
   "cell_type": "code",
   "execution_count": 318,
   "metadata": {},
   "outputs": [],
   "source": [
    "#merging test to weather\n",
    "test_=pd.merge(test_,weather,how='inner')"
   ]
  },
  {
   "cell_type": "code",
   "execution_count": 321,
   "metadata": {},
   "outputs": [],
   "source": [
    "# merging train weather\n",
    "train_=pd.merge(train_,weather,how='inner')"
   ]
  },
  {
   "cell_type": "code",
   "execution_count": 323,
   "metadata": {},
   "outputs": [],
   "source": [
    "# merging test to macro economic data\n",
    "test_=pd.merge(test_,macro,how='inner')"
   ]
  },
  {
   "cell_type": "code",
   "execution_count": 325,
   "metadata": {},
   "outputs": [],
   "source": [
    "# merging  train to macro\n",
    "train_=pd.merge(train_,macro,how='inner')"
   ]
  },
  {
   "cell_type": "markdown",
   "metadata": {},
   "source": [
    "# Checking for null values"
   ]
  },
  {
   "cell_type": "code",
   "execution_count": 334,
   "metadata": {},
   "outputs": [],
   "source": [
    "train_.days.fillna(2.0,inplace=True)"
   ]
  },
  {
   "cell_type": "code",
   "execution_count": 335,
   "metadata": {},
   "outputs": [],
   "source": [
    "test_.days.fillna(2.0,inplace=True)"
   ]
  },
  {
   "cell_type": "code",
   "execution_count": 337,
   "metadata": {},
   "outputs": [],
   "source": [
    "train_.drop(['l1','l2'],axis=1,inplace=True)"
   ]
  },
  {
   "cell_type": "code",
   "execution_count": 338,
   "metadata": {},
   "outputs": [],
   "source": [
    "test_.drop(['l1','l2'],axis=1,inplace=True)"
   ]
  },
  {
   "cell_type": "code",
   "execution_count": 339,
   "metadata": {},
   "outputs": [],
   "source": [
    "# now the data is perfect to scaled and for getting dummies"
   ]
  },
  {
   "cell_type": "code",
   "execution_count": 340,
   "metadata": {},
   "outputs": [
    {
     "data": {
      "text/plain": [
       "(216, 40)"
      ]
     },
     "execution_count": 340,
     "metadata": {},
     "output_type": "execute_result"
    }
   ],
   "source": [
    "train_.shape"
   ]
  },
  {
   "cell_type": "code",
   "execution_count": 341,
   "metadata": {},
   "outputs": [
    {
     "data": {
      "text/plain": [
       "(36, 39)"
      ]
     },
     "execution_count": 341,
     "metadata": {},
     "output_type": "execute_result"
    }
   ],
   "source": [
    "test_.shape"
   ]
  },
  {
   "cell_type": "code",
   "execution_count": 357,
   "metadata": {},
   "outputs": [],
   "source": [
    "# creating dummies\n",
    "dummy_train=pd.get_dummies(train_.drop('date',axis=1))\n",
    "dummy_test=pd.get_dummies(test_.drop('date',axis=1))"
   ]
  },
  {
   "cell_type": "code",
   "execution_count": 353,
   "metadata": {},
   "outputs": [],
   "source": [
    "# scaling the data\n",
    "from sklearn.preprocessing import StandardScaler\n",
    "sc=StandardScaler()"
   ]
  },
  {
   "cell_type": "code",
   "execution_count": 360,
   "metadata": {},
   "outputs": [
    {
     "data": {
      "text/plain": [
       "Index(['Sales(In ThousandDollars)', 'days', 'Temp high (°C)', 'Temp avg (°C)',\n",
       "       'Temp low (°C)', 'Dew Point high (°C)', 'Dew Point avg (°C)',\n",
       "       'Dew Point low (°C)', 'Humidity (%) high', 'Humidity (%) avg',\n",
       "       'Humidity (%) low', 'Sea Level Press. (hPa) high',\n",
       "       'Sea Level Press. (hPa) avg', 'Sea Level Press. (hPa) low',\n",
       "       'Visibility (km) high', 'Visibility (km) avg', 'Visibility (km) low',\n",
       "       'Wind (km/h) low', 'Wind (km/h) avg', 'Wind (km/h) high',\n",
       "       'Precip. (mm) sum', 'Monthly Nominal GDP Index (inMillion$)',\n",
       "       'Monthly Real GDP Index (inMillion$)', 'CPI', 'unemployment rate',\n",
       "       'CommercialBankInterestRateonCreditCardPlans',\n",
       "       'Finance Rate on Personal Loans at Commercial Banks, 24 Month Loan',\n",
       "       'Earnings or wages  in dollars per hour',\n",
       "       'AdvertisingExpenses (in Thousand Dollars)',\n",
       "       'Cotton Monthly Price - US cents per Pound(lbs)', 'Change(in%)',\n",
       "       'Average upland planted(million acres)',\n",
       "       'Average upland harvested(million acres)', 'yieldperharvested acre',\n",
       "       'Production (in  480-lb netweright in million bales)',\n",
       "       'Mill use  (in  480-lb netweright in million bales)', 'Exports',\n",
       "       'ProductCategory_MenClothing', 'ProductCategory_OtherClothing',\n",
       "       'ProductCategory_WomenClothing', 'PartyInPower_Democrats'],\n",
       "      dtype='object')"
      ]
     },
     "execution_count": 360,
     "metadata": {},
     "output_type": "execute_result"
    }
   ],
   "source": [
    "dummy_train.columns"
   ]
  },
  {
   "cell_type": "code",
   "execution_count": 374,
   "metadata": {},
   "outputs": [
    {
     "name": "stderr",
     "output_type": "stream",
     "text": [
      "/anaconda3/lib/python3.7/site-packages/sklearn/preprocessing/data.py:625: DataConversionWarning: Data with input dtype uint8, int64, float64 were all converted to float64 by StandardScaler.\n",
      "  return self.partial_fit(X, y)\n",
      "/anaconda3/lib/python3.7/site-packages/sklearn/base.py:462: DataConversionWarning: Data with input dtype uint8, int64, float64 were all converted to float64 by StandardScaler.\n",
      "  return self.fit(X, **fit_params).transform(X)\n"
     ]
    }
   ],
   "source": [
    "scaled_train=pd.DataFrame(sc.fit_transform(dummy_train.drop('Sales(In ThousandDollars)',axis=1)))"
   ]
  },
  {
   "cell_type": "code",
   "execution_count": 376,
   "metadata": {},
   "outputs": [
    {
     "name": "stderr",
     "output_type": "stream",
     "text": [
      "/anaconda3/lib/python3.7/site-packages/sklearn/preprocessing/data.py:625: DataConversionWarning: Data with input dtype uint8, int64, float64 were all converted to float64 by StandardScaler.\n",
      "  return self.partial_fit(X, y)\n",
      "/anaconda3/lib/python3.7/site-packages/sklearn/base.py:462: DataConversionWarning: Data with input dtype uint8, int64, float64 were all converted to float64 by StandardScaler.\n",
      "  return self.fit(X, **fit_params).transform(X)\n"
     ]
    }
   ],
   "source": [
    "scaled_test=pd.DataFrame(sc.fit_transform(dummy_test))"
   ]
  },
  {
   "cell_type": "code",
   "execution_count": 377,
   "metadata": {},
   "outputs": [],
   "source": [
    "y=dummy_train['Sales(In ThousandDollars)']"
   ]
  },
  {
   "cell_type": "code",
   "execution_count": 378,
   "metadata": {},
   "outputs": [
    {
     "data": {
      "text/plain": [
       "(216, 40)"
      ]
     },
     "execution_count": 378,
     "metadata": {},
     "output_type": "execute_result"
    }
   ],
   "source": [
    "scaled_train.shape"
   ]
  },
  {
   "cell_type": "code",
   "execution_count": 379,
   "metadata": {},
   "outputs": [
    {
     "data": {
      "text/plain": [
       "(216,)"
      ]
     },
     "execution_count": 379,
     "metadata": {},
     "output_type": "execute_result"
    }
   ],
   "source": [
    "y.shape"
   ]
  },
  {
   "cell_type": "markdown",
   "metadata": {},
   "source": [
    "# Apllying decision tree"
   ]
  },
  {
   "cell_type": "code",
   "execution_count": 380,
   "metadata": {},
   "outputs": [],
   "source": [
    "from sklearn.tree import DecisionTreeRegressor\n",
    "dtree=DecisionTreeRegressor()"
   ]
  },
  {
   "cell_type": "code",
   "execution_count": 383,
   "metadata": {},
   "outputs": [],
   "source": [
    "pred_tree=dtree.fit(scaled_train,y).predict(scaled_test)"
   ]
  },
  {
   "cell_type": "code",
   "execution_count": 386,
   "metadata": {},
   "outputs": [],
   "source": [
    "sub=pd.read_csv('/Users/MCHARU/Desktop/sample_submission.csv')"
   ]
  },
  {
   "cell_type": "code",
   "execution_count": 387,
   "metadata": {},
   "outputs": [
    {
     "data": {
      "text/html": [
       "<div>\n",
       "<style scoped>\n",
       "    .dataframe tbody tr th:only-of-type {\n",
       "        vertical-align: middle;\n",
       "    }\n",
       "\n",
       "    .dataframe tbody tr th {\n",
       "        vertical-align: top;\n",
       "    }\n",
       "\n",
       "    .dataframe thead th {\n",
       "        text-align: right;\n",
       "    }\n",
       "</style>\n",
       "<table border=\"1\" class=\"dataframe\">\n",
       "  <thead>\n",
       "    <tr style=\"text-align: right;\">\n",
       "      <th></th>\n",
       "      <th>S.No.</th>\n",
       "      <th>Sales</th>\n",
       "    </tr>\n",
       "  </thead>\n",
       "  <tbody>\n",
       "    <tr>\n",
       "      <th>0</th>\n",
       "      <td>1</td>\n",
       "      <td>1000</td>\n",
       "    </tr>\n",
       "    <tr>\n",
       "      <th>1</th>\n",
       "      <td>2</td>\n",
       "      <td>1000</td>\n",
       "    </tr>\n",
       "    <tr>\n",
       "      <th>2</th>\n",
       "      <td>3</td>\n",
       "      <td>1000</td>\n",
       "    </tr>\n",
       "    <tr>\n",
       "      <th>3</th>\n",
       "      <td>4</td>\n",
       "      <td>1000</td>\n",
       "    </tr>\n",
       "    <tr>\n",
       "      <th>4</th>\n",
       "      <td>5</td>\n",
       "      <td>1000</td>\n",
       "    </tr>\n",
       "  </tbody>\n",
       "</table>\n",
       "</div>"
      ],
      "text/plain": [
       "   S.No.  Sales\n",
       "0      1   1000\n",
       "1      2   1000\n",
       "2      3   1000\n",
       "3      4   1000\n",
       "4      5   1000"
      ]
     },
     "execution_count": 387,
     "metadata": {},
     "output_type": "execute_result"
    }
   ],
   "source": [
    "sub.head()"
   ]
  },
  {
   "cell_type": "markdown",
   "metadata": {},
   "source": [
    "#  Applying random forrest"
   ]
  },
  {
   "cell_type": "code",
   "execution_count": 390,
   "metadata": {},
   "outputs": [],
   "source": [
    "from sklearn.ensemble import RandomForestRegressor\n",
    "rf=RandomForestRegressor()"
   ]
  },
  {
   "cell_type": "code",
   "execution_count": 391,
   "metadata": {},
   "outputs": [
    {
     "name": "stderr",
     "output_type": "stream",
     "text": [
      "/anaconda3/lib/python3.7/site-packages/sklearn/ensemble/forest.py:246: FutureWarning: The default value of n_estimators will change from 10 in version 0.20 to 100 in 0.22.\n",
      "  \"10 in version 0.20 to 100 in 0.22.\", FutureWarning)\n"
     ]
    }
   ],
   "source": [
    "pred_rf=rf.fit(scaled_train,y).predict(scaled_test)"
   ]
  },
  {
   "cell_type": "code",
   "execution_count": 392,
   "metadata": {},
   "outputs": [
    {
     "data": {
      "text/plain": [
       "array([2462.5,  625.8, 1071. , 2522.2,  640.7, 1140.2, 2800.5,  690.2,\n",
       "       1123.9, 3091.3,  737.3, 1027.6, 3259.5,  600.9, 1123.6, 3229.8,\n",
       "        669.5, 1232.4, 3311.5,  852.3, 1187.4, 3101.3,  892.1, 1276.3,\n",
       "       4073.9,  681.7, 1131.1, 3535.8,  839.6, 1136.5, 3653.5,  832.9,\n",
       "       1396. , 4304.3,  927.6, 1469.6])"
      ]
     },
     "execution_count": 392,
     "metadata": {},
     "output_type": "execute_result"
    }
   ],
   "source": [
    "pred_rf"
   ]
  },
  {
   "cell_type": "markdown",
   "metadata": {},
   "source": [
    "# Applying Xgboost"
   ]
  },
  {
   "cell_type": "code",
   "execution_count": 394,
   "metadata": {},
   "outputs": [],
   "source": [
    "from xgboost import XGBRegressor"
   ]
  },
  {
   "cell_type": "code",
   "execution_count": 395,
   "metadata": {},
   "outputs": [],
   "source": [
    "xg=XGBRegressor()"
   ]
  },
  {
   "cell_type": "code",
   "execution_count": 396,
   "metadata": {},
   "outputs": [],
   "source": [
    "pred_xg=xg.fit(scaled_train,y).predict(scaled_test)"
   ]
  },
  {
   "cell_type": "code",
   "execution_count": 397,
   "metadata": {},
   "outputs": [],
   "source": [
    "pd.DataFrame({'S.No.':sub['S.No.'],\n",
    "             'Sales':pred_xg}).to_csv('sub_wallmart',index=False)"
   ]
  }
 ],
 "metadata": {
  "colab": {
   "name": "wallmartkaggle.ipynb",
   "provenance": [],
   "version": "0.3.2"
  },
  "kernelspec": {
   "display_name": "Python 3",
   "language": "python",
   "name": "python3"
  },
  "language_info": {
   "codemirror_mode": {
    "name": "ipython",
    "version": 3
   },
   "file_extension": ".py",
   "mimetype": "text/x-python",
   "name": "python",
   "nbconvert_exporter": "python",
   "pygments_lexer": "ipython3",
   "version": "3.7.1"
  }
 },
 "nbformat": 4,
 "nbformat_minor": 1
}
